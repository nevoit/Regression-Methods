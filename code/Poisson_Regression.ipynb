{
  "nbformat": 4,
  "nbformat_minor": 0,
  "metadata": {
    "colab": {
      "name": "Poisson_Regression.ipynb",
      "provenance": [],
      "collapsed_sections": []
    },
    "kernelspec": {
      "name": "python3",
      "display_name": "Python 3"
    },
    "language_info": {
      "name": "python"
    }
  },
  "cells": [
    {
      "cell_type": "code",
      "execution_count": 89,
      "metadata": {
        "id": "eNwt1EilQJ1v"
      },
      "outputs": [],
      "source": [
        "import numpy as np \n",
        "import pandas as pd\n",
        "import matplotlib.pyplot as plt\n",
        "import seaborn as sns\n",
        "from sklearn import datasets"
      ]
    },
    {
      "cell_type": "markdown",
      "source": [
        "# Parameters"
      ],
      "metadata": {
        "id": "QeO92i34QSDx"
      }
    },
    {
      "cell_type": "code",
      "source": [
        "X = np.array(\n",
        "    [[1129, 1.435],\n",
        "     [1453, 1.601],\n",
        "     [1656, 1.654],\n",
        "     [1787, 1.803],\n",
        "     [1611, 1.734]]\n",
        ")\n",
        "y = [1.56, 1.64, 1.77, 1.83, 2.5]\n",
        "\n",
        "X_test = np.array(\n",
        "    [[1629, 1.635],\n",
        "     [1853, 1.701],\n",
        "     [1356, 1.454]]\n",
        ")\n",
        "\n",
        "n_iter = 3\n",
        "lr = 0.001"
      ],
      "metadata": {
        "id": "KF3_szDIQUdr"
      },
      "execution_count": 90,
      "outputs": []
    },
    {
      "cell_type": "code",
      "source": [
        "X_to_print = pd.DataFrame(X, columns = ['x_1','x_2'])\n",
        "print(f'The original data (i.e., matrix X):')\n",
        "X_to_print"
      ],
      "metadata": {
        "colab": {
          "base_uri": "https://localhost:8080/",
          "height": 224
        },
        "id": "4lSv8GI_Qcd7",
        "outputId": "bed71d45-505a-4401-9920-cee86c1602cc"
      },
      "execution_count": 91,
      "outputs": [
        {
          "output_type": "stream",
          "name": "stdout",
          "text": [
            "The original data (i.e., matrix X):\n"
          ]
        },
        {
          "output_type": "execute_result",
          "data": {
            "text/plain": [
              "      x_1    x_2\n",
              "0  1129.0  1.435\n",
              "1  1453.0  1.601\n",
              "2  1656.0  1.654\n",
              "3  1787.0  1.803\n",
              "4  1611.0  1.734"
            ],
            "text/html": [
              "\n",
              "  <div id=\"df-4a7b9570-48c1-4331-b5c3-893523761330\">\n",
              "    <div class=\"colab-df-container\">\n",
              "      <div>\n",
              "<style scoped>\n",
              "    .dataframe tbody tr th:only-of-type {\n",
              "        vertical-align: middle;\n",
              "    }\n",
              "\n",
              "    .dataframe tbody tr th {\n",
              "        vertical-align: top;\n",
              "    }\n",
              "\n",
              "    .dataframe thead th {\n",
              "        text-align: right;\n",
              "    }\n",
              "</style>\n",
              "<table border=\"1\" class=\"dataframe\">\n",
              "  <thead>\n",
              "    <tr style=\"text-align: right;\">\n",
              "      <th></th>\n",
              "      <th>x_1</th>\n",
              "      <th>x_2</th>\n",
              "    </tr>\n",
              "  </thead>\n",
              "  <tbody>\n",
              "    <tr>\n",
              "      <th>0</th>\n",
              "      <td>1129.0</td>\n",
              "      <td>1.435</td>\n",
              "    </tr>\n",
              "    <tr>\n",
              "      <th>1</th>\n",
              "      <td>1453.0</td>\n",
              "      <td>1.601</td>\n",
              "    </tr>\n",
              "    <tr>\n",
              "      <th>2</th>\n",
              "      <td>1656.0</td>\n",
              "      <td>1.654</td>\n",
              "    </tr>\n",
              "    <tr>\n",
              "      <th>3</th>\n",
              "      <td>1787.0</td>\n",
              "      <td>1.803</td>\n",
              "    </tr>\n",
              "    <tr>\n",
              "      <th>4</th>\n",
              "      <td>1611.0</td>\n",
              "      <td>1.734</td>\n",
              "    </tr>\n",
              "  </tbody>\n",
              "</table>\n",
              "</div>\n",
              "      <button class=\"colab-df-convert\" onclick=\"convertToInteractive('df-4a7b9570-48c1-4331-b5c3-893523761330')\"\n",
              "              title=\"Convert this dataframe to an interactive table.\"\n",
              "              style=\"display:none;\">\n",
              "        \n",
              "  <svg xmlns=\"http://www.w3.org/2000/svg\" height=\"24px\"viewBox=\"0 0 24 24\"\n",
              "       width=\"24px\">\n",
              "    <path d=\"M0 0h24v24H0V0z\" fill=\"none\"/>\n",
              "    <path d=\"M18.56 5.44l.94 2.06.94-2.06 2.06-.94-2.06-.94-.94-2.06-.94 2.06-2.06.94zm-11 1L8.5 8.5l.94-2.06 2.06-.94-2.06-.94L8.5 2.5l-.94 2.06-2.06.94zm10 10l.94 2.06.94-2.06 2.06-.94-2.06-.94-.94-2.06-.94 2.06-2.06.94z\"/><path d=\"M17.41 7.96l-1.37-1.37c-.4-.4-.92-.59-1.43-.59-.52 0-1.04.2-1.43.59L10.3 9.45l-7.72 7.72c-.78.78-.78 2.05 0 2.83L4 21.41c.39.39.9.59 1.41.59.51 0 1.02-.2 1.41-.59l7.78-7.78 2.81-2.81c.8-.78.8-2.07 0-2.86zM5.41 20L4 18.59l7.72-7.72 1.47 1.35L5.41 20z\"/>\n",
              "  </svg>\n",
              "      </button>\n",
              "      \n",
              "  <style>\n",
              "    .colab-df-container {\n",
              "      display:flex;\n",
              "      flex-wrap:wrap;\n",
              "      gap: 12px;\n",
              "    }\n",
              "\n",
              "    .colab-df-convert {\n",
              "      background-color: #E8F0FE;\n",
              "      border: none;\n",
              "      border-radius: 50%;\n",
              "      cursor: pointer;\n",
              "      display: none;\n",
              "      fill: #1967D2;\n",
              "      height: 32px;\n",
              "      padding: 0 0 0 0;\n",
              "      width: 32px;\n",
              "    }\n",
              "\n",
              "    .colab-df-convert:hover {\n",
              "      background-color: #E2EBFA;\n",
              "      box-shadow: 0px 1px 2px rgba(60, 64, 67, 0.3), 0px 1px 3px 1px rgba(60, 64, 67, 0.15);\n",
              "      fill: #174EA6;\n",
              "    }\n",
              "\n",
              "    [theme=dark] .colab-df-convert {\n",
              "      background-color: #3B4455;\n",
              "      fill: #D2E3FC;\n",
              "    }\n",
              "\n",
              "    [theme=dark] .colab-df-convert:hover {\n",
              "      background-color: #434B5C;\n",
              "      box-shadow: 0px 1px 3px 1px rgba(0, 0, 0, 0.15);\n",
              "      filter: drop-shadow(0px 1px 2px rgba(0, 0, 0, 0.3));\n",
              "      fill: #FFFFFF;\n",
              "    }\n",
              "  </style>\n",
              "\n",
              "      <script>\n",
              "        const buttonEl =\n",
              "          document.querySelector('#df-4a7b9570-48c1-4331-b5c3-893523761330 button.colab-df-convert');\n",
              "        buttonEl.style.display =\n",
              "          google.colab.kernel.accessAllowed ? 'block' : 'none';\n",
              "\n",
              "        async function convertToInteractive(key) {\n",
              "          const element = document.querySelector('#df-4a7b9570-48c1-4331-b5c3-893523761330');\n",
              "          const dataTable =\n",
              "            await google.colab.kernel.invokeFunction('convertToInteractive',\n",
              "                                                     [key], {});\n",
              "          if (!dataTable) return;\n",
              "\n",
              "          const docLinkHtml = 'Like what you see? Visit the ' +\n",
              "            '<a target=\"_blank\" href=https://colab.research.google.com/notebooks/data_table.ipynb>data table notebook</a>'\n",
              "            + ' to learn more about interactive tables.';\n",
              "          element.innerHTML = '';\n",
              "          dataTable['output_type'] = 'display_data';\n",
              "          await google.colab.output.renderOutput(dataTable, element);\n",
              "          const docLink = document.createElement('div');\n",
              "          docLink.innerHTML = docLinkHtml;\n",
              "          element.appendChild(docLink);\n",
              "        }\n",
              "      </script>\n",
              "    </div>\n",
              "  </div>\n",
              "  "
            ]
          },
          "metadata": {},
          "execution_count": 91
        }
      ]
    },
    {
      "cell_type": "markdown",
      "source": [
        "# Standardize the continuous initial variables"
      ],
      "metadata": {
        "id": "oyNOcIc5QeNl"
      }
    },
    {
      "cell_type": "code",
      "source": [
        "X_std = (X - np.mean(X, axis=0)) / np.std(X, axis=0, ddof=1)\n",
        "X_std_to_print = pd.DataFrame(X_std, columns = ['x_1_std','x_2_std'])\n",
        "print(f'The standardised data (i.e., matrix X_std):')\n",
        "print(f'x_1_std mean = {X_std_to_print[\"x_1_std\"].mean():.2f}')\n",
        "print(f'x_1_std std = {X_std_to_print[\"x_1_std\"].std():.2f}')\n",
        "print(f'x_2_std mean = {X_std_to_print[\"x_2_std\"].mean():.2f}')\n",
        "print(f'x_2_std std = {X_std_to_print[\"x_2_std\"].std():.2f}')\n",
        "X_std_to_print"
      ],
      "metadata": {
        "colab": {
          "base_uri": "https://localhost:8080/",
          "height": 293
        },
        "id": "JNHR0jq_Qd1H",
        "outputId": "6759ca84-f368-460c-d879-d645885da3d9"
      },
      "execution_count": 92,
      "outputs": [
        {
          "output_type": "stream",
          "name": "stdout",
          "text": [
            "The standardised data (i.e., matrix X_std):\n",
            "x_1_std mean = -0.00\n",
            "x_1_std std = 1.00\n",
            "x_2_std mean = -0.00\n",
            "x_2_std std = 1.00\n"
          ]
        },
        {
          "output_type": "execute_result",
          "data": {
            "text/plain": [
              "    x_1_std   x_2_std\n",
              "0 -1.576561 -1.497128\n",
              "1 -0.293774 -0.315934\n",
              "2  0.509947  0.061194\n",
              "3  1.028605  1.121423\n",
              "4  0.331782  0.630445"
            ],
            "text/html": [
              "\n",
              "  <div id=\"df-26f337e9-b11c-470c-a594-7e6af33dcde3\">\n",
              "    <div class=\"colab-df-container\">\n",
              "      <div>\n",
              "<style scoped>\n",
              "    .dataframe tbody tr th:only-of-type {\n",
              "        vertical-align: middle;\n",
              "    }\n",
              "\n",
              "    .dataframe tbody tr th {\n",
              "        vertical-align: top;\n",
              "    }\n",
              "\n",
              "    .dataframe thead th {\n",
              "        text-align: right;\n",
              "    }\n",
              "</style>\n",
              "<table border=\"1\" class=\"dataframe\">\n",
              "  <thead>\n",
              "    <tr style=\"text-align: right;\">\n",
              "      <th></th>\n",
              "      <th>x_1_std</th>\n",
              "      <th>x_2_std</th>\n",
              "    </tr>\n",
              "  </thead>\n",
              "  <tbody>\n",
              "    <tr>\n",
              "      <th>0</th>\n",
              "      <td>-1.576561</td>\n",
              "      <td>-1.497128</td>\n",
              "    </tr>\n",
              "    <tr>\n",
              "      <th>1</th>\n",
              "      <td>-0.293774</td>\n",
              "      <td>-0.315934</td>\n",
              "    </tr>\n",
              "    <tr>\n",
              "      <th>2</th>\n",
              "      <td>0.509947</td>\n",
              "      <td>0.061194</td>\n",
              "    </tr>\n",
              "    <tr>\n",
              "      <th>3</th>\n",
              "      <td>1.028605</td>\n",
              "      <td>1.121423</td>\n",
              "    </tr>\n",
              "    <tr>\n",
              "      <th>4</th>\n",
              "      <td>0.331782</td>\n",
              "      <td>0.630445</td>\n",
              "    </tr>\n",
              "  </tbody>\n",
              "</table>\n",
              "</div>\n",
              "      <button class=\"colab-df-convert\" onclick=\"convertToInteractive('df-26f337e9-b11c-470c-a594-7e6af33dcde3')\"\n",
              "              title=\"Convert this dataframe to an interactive table.\"\n",
              "              style=\"display:none;\">\n",
              "        \n",
              "  <svg xmlns=\"http://www.w3.org/2000/svg\" height=\"24px\"viewBox=\"0 0 24 24\"\n",
              "       width=\"24px\">\n",
              "    <path d=\"M0 0h24v24H0V0z\" fill=\"none\"/>\n",
              "    <path d=\"M18.56 5.44l.94 2.06.94-2.06 2.06-.94-2.06-.94-.94-2.06-.94 2.06-2.06.94zm-11 1L8.5 8.5l.94-2.06 2.06-.94-2.06-.94L8.5 2.5l-.94 2.06-2.06.94zm10 10l.94 2.06.94-2.06 2.06-.94-2.06-.94-.94-2.06-.94 2.06-2.06.94z\"/><path d=\"M17.41 7.96l-1.37-1.37c-.4-.4-.92-.59-1.43-.59-.52 0-1.04.2-1.43.59L10.3 9.45l-7.72 7.72c-.78.78-.78 2.05 0 2.83L4 21.41c.39.39.9.59 1.41.59.51 0 1.02-.2 1.41-.59l7.78-7.78 2.81-2.81c.8-.78.8-2.07 0-2.86zM5.41 20L4 18.59l7.72-7.72 1.47 1.35L5.41 20z\"/>\n",
              "  </svg>\n",
              "      </button>\n",
              "      \n",
              "  <style>\n",
              "    .colab-df-container {\n",
              "      display:flex;\n",
              "      flex-wrap:wrap;\n",
              "      gap: 12px;\n",
              "    }\n",
              "\n",
              "    .colab-df-convert {\n",
              "      background-color: #E8F0FE;\n",
              "      border: none;\n",
              "      border-radius: 50%;\n",
              "      cursor: pointer;\n",
              "      display: none;\n",
              "      fill: #1967D2;\n",
              "      height: 32px;\n",
              "      padding: 0 0 0 0;\n",
              "      width: 32px;\n",
              "    }\n",
              "\n",
              "    .colab-df-convert:hover {\n",
              "      background-color: #E2EBFA;\n",
              "      box-shadow: 0px 1px 2px rgba(60, 64, 67, 0.3), 0px 1px 3px 1px rgba(60, 64, 67, 0.15);\n",
              "      fill: #174EA6;\n",
              "    }\n",
              "\n",
              "    [theme=dark] .colab-df-convert {\n",
              "      background-color: #3B4455;\n",
              "      fill: #D2E3FC;\n",
              "    }\n",
              "\n",
              "    [theme=dark] .colab-df-convert:hover {\n",
              "      background-color: #434B5C;\n",
              "      box-shadow: 0px 1px 3px 1px rgba(0, 0, 0, 0.15);\n",
              "      filter: drop-shadow(0px 1px 2px rgba(0, 0, 0, 0.3));\n",
              "      fill: #FFFFFF;\n",
              "    }\n",
              "  </style>\n",
              "\n",
              "      <script>\n",
              "        const buttonEl =\n",
              "          document.querySelector('#df-26f337e9-b11c-470c-a594-7e6af33dcde3 button.colab-df-convert');\n",
              "        buttonEl.style.display =\n",
              "          google.colab.kernel.accessAllowed ? 'block' : 'none';\n",
              "\n",
              "        async function convertToInteractive(key) {\n",
              "          const element = document.querySelector('#df-26f337e9-b11c-470c-a594-7e6af33dcde3');\n",
              "          const dataTable =\n",
              "            await google.colab.kernel.invokeFunction('convertToInteractive',\n",
              "                                                     [key], {});\n",
              "          if (!dataTable) return;\n",
              "\n",
              "          const docLinkHtml = 'Like what you see? Visit the ' +\n",
              "            '<a target=\"_blank\" href=https://colab.research.google.com/notebooks/data_table.ipynb>data table notebook</a>'\n",
              "            + ' to learn more about interactive tables.';\n",
              "          element.innerHTML = '';\n",
              "          dataTable['output_type'] = 'display_data';\n",
              "          await google.colab.output.renderOutput(dataTable, element);\n",
              "          const docLink = document.createElement('div');\n",
              "          docLink.innerHTML = docLinkHtml;\n",
              "          element.appendChild(docLink);\n",
              "        }\n",
              "      </script>\n",
              "    </div>\n",
              "  </div>\n",
              "  "
            ]
          },
          "metadata": {},
          "execution_count": 92
        }
      ]
    },
    {
      "cell_type": "code",
      "source": [
        "X_train_mean = np.mean(X, axis=0)\n",
        "print(f'X_train_mean: \\n{X_train_mean} \\n')\n",
        "X_train_std = np.std(X, axis=0, ddof=1)\n",
        "print(f'X_train_std: \\n{X_train_std} \\n')"
      ],
      "metadata": {
        "colab": {
          "base_uri": "https://localhost:8080/"
        },
        "id": "nJV91dPiQlaQ",
        "outputId": "c29fc6d2-010a-49ef-d88c-aa25d225c6f3"
      },
      "execution_count": 93,
      "outputs": [
        {
          "output_type": "stream",
          "name": "stdout",
          "text": [
            "X_train_mean: \n",
            "[1527.2       1.6454] \n",
            "\n",
            "X_train_std: \n",
            "[2.52575137e+02 1.40535761e-01] \n",
            "\n"
          ]
        }
      ]
    },
    {
      "cell_type": "markdown",
      "source": [
        "# Standardize Y"
      ],
      "metadata": {
        "id": "sTFMgHyrQr4j"
      }
    },
    {
      "cell_type": "code",
      "source": [
        "y_train_mean = np.mean(y)\n",
        "print(f'y_train_mean: \\n{y_train_mean} \\n')\n",
        "y_train_std = np.std(y)\n",
        "print(f'y_train_std: \\n{y_train_std} \\n')\n",
        "y = [(a - y_train_mean)/y_train_std for a in y]\n",
        "print(f'STD y: \\n{y} \\n')"
      ],
      "metadata": {
        "colab": {
          "base_uri": "https://localhost:8080/"
        },
        "id": "DYQcWm7UQq9v",
        "outputId": "e9ce42bd-508a-40ff-e8b9-96eca488d6be"
      },
      "execution_count": 94,
      "outputs": [
        {
          "output_type": "stream",
          "name": "stdout",
          "text": [
            "y_train_mean: \n",
            "1.86 \n",
            "\n",
            "y_train_std: \n",
            "0.3337663853655727 \n",
            "\n",
            "STD y: \n",
            "[-0.8988322765679699, -0.6591436694831784, -0.26964968297039116, -0.08988322765679706, 1.9175088566783351] \n",
            "\n"
          ]
        }
      ]
    },
    {
      "cell_type": "markdown",
      "source": [
        "# Compute coefficients"
      ],
      "metadata": {
        "id": "AxWmFPHiQv_p"
      }
    },
    {
      "cell_type": "code",
      "source": [
        "# add the w_0 intercept where the corresponding x_0 = 1\n",
        "Xp = np.concatenate([np.zeros((X_std.shape[0], 1)), X_std], axis=1)\n",
        "print(f'X: \\n{Xp}\\n')\n",
        "print(f'XT: \\n{Xp.T}\\n')\n",
        "print(f'Y: \\n{y}\\n')\n",
        "\n",
        "m = Xp.shape[0]  # sample size\n",
        "print(f'Sample size: {m}\\n')\n",
        "\n",
        "hist = np.zeros(n_iter)\n",
        "# get coefficients\n",
        "beta = np.zeros(Xp.shape[1])\n",
        "for i in range(n_iter):\n",
        "    print(f'Iteration #{i}:')\n",
        "    y_hat = np.exp(np.dot(Xp, beta))\n",
        "    print(f'Current linear prediction {np.dot(Xp, beta)}')\n",
        "    print(f'Current prediction {y_hat}')\n",
        "    dLdbeta = np.dot(Xp.T, y_hat - y) / m\n",
        "\n",
        "    loss = (y_hat - np.log(y_hat) * y).mean()\n",
        "    print(f'Current loss: {loss}')\n",
        "    hist[i] = loss\n",
        "\n",
        "    print(f'Current residuals {y_hat - y}')\n",
        "    print(f'Current derivatives {dLdbeta}')\n",
        "    beta -= lr*dLdbeta\n",
        "    print(f'Current coefficients {beta}')\n",
        "    print(f'-'*10)\n",
        "\n",
        "print(f'beta: \\n{beta} \\n')"
      ],
      "metadata": {
        "colab": {
          "base_uri": "https://localhost:8080/"
        },
        "id": "qUVo3fviQuN3",
        "outputId": "d59d14ee-d9ae-41da-f197-6e3fd561b200"
      },
      "execution_count": 95,
      "outputs": [
        {
          "output_type": "stream",
          "name": "stdout",
          "text": [
            "X: \n",
            "[[ 0.         -1.57656056 -1.49712784]\n",
            " [ 0.         -0.29377397 -0.31593382]\n",
            " [ 0.          0.50994726  0.06119439]\n",
            " [ 0.          1.02860481  1.12142276]\n",
            " [ 0.          0.33178246  0.63044452]]\n",
            "\n",
            "XT: \n",
            "[[ 0.          0.          0.          0.          0.        ]\n",
            " [-1.57656056 -0.29377397  0.50994726  1.02860481  0.33178246]\n",
            " [-1.49712784 -0.31593382  0.06119439  1.12142276  0.63044452]]\n",
            "\n",
            "Y: \n",
            "[-0.8988322765679699, -0.6591436694831784, -0.26964968297039116, -0.08988322765679706, 1.9175088566783351]\n",
            "\n",
            "Sample size: 5\n",
            "\n",
            "Iteration #0:\n",
            "Current linear prediction [0. 0. 0. 0. 0.]\n",
            "Current prediction [1. 1. 1. 1. 1.]\n",
            "Current loss: 1.0\n",
            "Current residuals [ 1.89883228  1.65914367  1.26964968  1.08988323 -0.91750886]\n",
            "Current derivatives [ 0.         -0.40338743 -0.52909948]\n",
            "Current coefficients [0.         0.00040339 0.0005291 ]\n",
            "----------\n",
            "Iteration #1:\n",
            "Current linear prediction [-0.00142809 -0.00028567  0.00023808  0.00100827  0.0004674 ]\n",
            "Current prediction [0.99857292 0.99971438 1.00023811 1.00100878 1.00046751]\n",
            "Current loss: 0.9995576735442228\n",
            "Current residuals [ 1.8974052   1.65885805  1.2698878   1.09089201 -0.91704134]\n",
            "Current derivatives [ 0.         -0.40265784 -0.52836602]\n",
            "Current coefficients [0.         0.00080605 0.00105747]\n",
            "----------\n",
            "Iteration #2:\n",
            "Current linear prediction [-0.00285394 -0.00057088  0.00047575  0.00201497  0.00093411]\n",
            "Current prediction [0.99715013 0.99942928 1.00047586 1.002017   1.00093454]\n",
            "Current loss: 0.9991167095388883\n",
            "Current residuals [ 1.8959824   1.65857295  1.27012555  1.09190023 -0.91657432]\n",
            "Current derivatives [ 0.         -0.40192981 -0.52763405]\n",
            "Current coefficients [0.         0.00120798 0.0015851 ]\n",
            "----------\n",
            "beta: \n",
            "[0.         0.00120798 0.0015851 ] \n",
            "\n"
          ]
        }
      ]
    },
    {
      "cell_type": "markdown",
      "source": [
        "# Visualization (the learning phase)"
      ],
      "metadata": {
        "id": "nOnRF5lyr8oM"
      }
    },
    {
      "cell_type": "code",
      "source": [
        "plt.plot(hist, 'b', color='#fcb103')\n",
        "plt.title(u'Loss per iteration')\n",
        "plt.xlabel(u'iteration')\n",
        "plt.ylabel(r'$Loss(Y_hat, Y)$')\n",
        "plt.figtext(x=.6, y=.6, s=f\"At the final iteration:\\n\\n {beta}\")\n",
        "plt.show()"
      ],
      "metadata": {
        "colab": {
          "base_uri": "https://localhost:8080/",
          "height": 295
        },
        "id": "D5WZ22zLq8Zd",
        "outputId": "70218c69-9d91-48a3-d9cc-cd2d7742c3f7"
      },
      "execution_count": 96,
      "outputs": [
        {
          "output_type": "display_data",
          "data": {
            "text/plain": [
              "<Figure size 432x288 with 1 Axes>"
            ],
            "image/png": "[encoded data removed]"
          },
          "metadata": {
            "needs_background": "light"
          }
        }
      ]
    },
    {
      "cell_type": "markdown",
      "source": [
        "# Predict (test set)"
      ],
      "metadata": {
        "id": "xnQQjd47RMvM"
      }
    },
    {
      "cell_type": "code",
      "source": [
        "print(f'X_test: \\n{X_test} \\n')\n",
        "\n",
        "X_test_std = (X_test - X_train_mean) / X_train_std\n",
        "print(f'STD X_test: \\n{X_test_std} \\n')\n",
        "\n",
        "Xp_test = np.concatenate([np.zeros((X_test_std.shape[0], 1)), X_test_std], axis=1)\n",
        "print(f'Adding zeros STD X_test: \\n{Xp_test} \\n')\n",
        "\n",
        "y_pred = Xp_test.dot(beta.T)\n",
        "print(f'y_pred: \\n{y_pred} \\n')\n",
        "\n",
        "print(f'y_pred restandertaization: \\n{y_pred*y_train_std+y_train_mean} \\n')"
      ],
      "metadata": {
        "colab": {
          "base_uri": "https://localhost:8080/"
        },
        "id": "ea4Qo8KyRLDn",
        "outputId": "34b5d012-877a-4992-9a29-367abfdad1f2"
      },
      "execution_count": 97,
      "outputs": [
        {
          "output_type": "stream",
          "name": "stdout",
          "text": [
            "X_test: \n",
            "[[1.629e+03 1.635e+00]\n",
            " [1.853e+03 1.701e+00]\n",
            " [1.356e+03 1.454e+00]] \n",
            "\n",
            "STD X_test: \n",
            "[[ 0.40304838 -0.07400252]\n",
            " [ 1.28991319  0.39562884]\n",
            " [-0.6778181  -1.36193094]] \n",
            "\n",
            "Adding zeros STD X_test: \n",
            "[[ 0.          0.40304838 -0.07400252]\n",
            " [ 0.          1.28991319  0.39562884]\n",
            " [ 0.         -0.6778181  -1.36193094]] \n",
            "\n",
            "y_pred: \n",
            "[ 0.00036957  0.00218529 -0.00297758] \n",
            "\n",
            "y_pred restandertaization: \n",
            "[1.86012335 1.86072938 1.85900618] \n",
            "\n"
          ]
        }
      ]
    },
    {
      "cell_type": "markdown",
      "source": [
        "# Test 1\n",
        "Source: https://dafriedman97.github.io/mlbook/content/c2/s2/GLMs.html"
      ],
      "metadata": {
        "id": "QRnheedtRZ-X"
      }
    },
    {
      "cell_type": "code",
      "source": [
        "class PoissonRegression:\n",
        "    \n",
        "    def fit(self, X, y, n_iter = 1000, lr = 0.00001):\n",
        "        zeros = np.zeros(len(X)).reshape((len(X), 1))\n",
        "        X = np.append(zeros, X, axis = 1)\n",
        "        self.X = X\n",
        "        self.y = y\n",
        "        \n",
        "        # get coefficients\n",
        "        beta_hats = np.zeros(X.shape[1])\n",
        "        for i in range(n_iter):\n",
        "            y_hat = np.exp(np.dot(X, beta_hats))\n",
        "            dLdbeta = np.dot(X.T, y_hat - y)\n",
        "            beta_hats -= lr*dLdbeta\n",
        "\n",
        "        # save coefficients and fitted values\n",
        "        self.beta_hats = beta_hats\n",
        "        self.y_hat = y_hat\n",
        "            "
      ],
      "metadata": {
        "id": "JP5hjxRdRZi0"
      },
      "execution_count": 98,
      "outputs": []
    },
    {
      "cell_type": "code",
      "source": [
        "model = PoissonRegression()\n",
        "model.fit(X_std, y, n_iter = 3, lr = 0.001)\n",
        "model.beta_hats"
      ],
      "metadata": {
        "colab": {
          "base_uri": "https://localhost:8080/"
        },
        "id": "UG7azi2nRepT",
        "outputId": "1cc7f4f6-082d-43b6-d320-81bb2a320e12"
      },
      "execution_count": 99,
      "outputs": [
        {
          "output_type": "execute_result",
          "data": {
            "text/plain": [
              "array([0.        , 0.00599635, 0.00788172])"
            ]
          },
          "metadata": {},
          "execution_count": 99
        }
      ]
    },
    {
      "cell_type": "markdown",
      "source": [
        "# Test 2\n",
        "Source: https://github.com/ximenasandoval/Poisson_regression/blob/main/Poisson%20regression%20model.ipynb\n"
      ],
      "metadata": {
        "id": "3bFVdNfsph4H"
      }
    },
    {
      "cell_type": "code",
      "source": [
        "def loss(x, y, w, b):\n",
        "    y_hat = np.exp(x @ w + b)\n",
        "    # You can use the normal MSE error too! \n",
        "    #error = np.square(y_hat - y).mean() / 2\n",
        "    error = (y_hat - np.log(y_hat) * y).mean()\n",
        "    return error\n",
        "\n",
        "def grad(x, y, w, b):\n",
        "    M, n = x.shape\n",
        "    y_hat = np.exp(x @ w + b)\n",
        "    dw = (x.T @ (y_hat - y)) / M\n",
        "    db = (y_hat - y).mean()\n",
        "    return dw, db\n",
        "\n",
        "def gradient_descent(x, y, w_0, b_0, alpha, num_iter):\n",
        "    w, b = w_0.copy(), b_0\n",
        "    hist = np.zeros(num_iter)\n",
        "    M, n = x.shape\n",
        "    \n",
        "    for iter in range(num_iter):\n",
        "        dw, db = grad(x, y, w, b)\n",
        "        w -= alpha * dw \n",
        "        # b -= alpha * db\n",
        "        hist[iter] = loss(x, y, w, b)\n",
        "\n",
        "    return w, b, hist\n",
        "\n",
        "w, b, hist = gradient_descent(x=X_std, y=y, w_0=np.zeros((X_std.shape[1], )), b_0=0, alpha=lr, num_iter=n_iter)"
      ],
      "metadata": {
        "id": "GygLY4pyphkU"
      },
      "execution_count": 106,
      "outputs": []
    },
    {
      "cell_type": "code",
      "source": [
        "b, w"
      ],
      "metadata": {
        "colab": {
          "base_uri": "https://localhost:8080/"
        },
        "id": "FqwSExHgqn_Y",
        "outputId": "51009c6f-643a-47c4-a7f0-6346b40bc858"
      },
      "execution_count": 107,
      "outputs": [
        {
          "output_type": "execute_result",
          "data": {
            "text/plain": [
              "(0, array([0.00120798, 0.0015851 ]))"
            ]
          },
          "metadata": {},
          "execution_count": 107
        }
      ]
    }
  ]
}