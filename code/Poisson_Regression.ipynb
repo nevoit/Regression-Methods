{
  "nbformat": 4,
  "nbformat_minor": 0,
  "metadata": {
    "colab": {
      "name": "Poisson_Regression.ipynb",
      "provenance": [],
      "collapsed_sections": []
    },
    "kernelspec": {
      "name": "python3",
      "display_name": "Python 3"
    },
    "language_info": {
      "name": "python"
    }
  },
  "cells": [
    {
      "cell_type": "code",
      "execution_count": 164,
      "metadata": {
        "id": "eNwt1EilQJ1v"
      },
      "outputs": [],
      "source": [
        "import numpy as np \n",
        "import pandas as pd\n",
        "import matplotlib.pyplot as plt\n",
        "import seaborn as sns\n",
        "from sklearn import datasets"
      ]
    },
    {
      "cell_type": "markdown",
      "source": [
        "# Parameters"
      ],
      "metadata": {
        "id": "QeO92i34QSDx"
      }
    },
    {
      "cell_type": "code",
      "source": [
        "X = np.array(\n",
        "    [[1129, 1.435],\n",
        "     [1453, 1.501],\n",
        "     [1656, 1.654],\n",
        "     [1787, 1.803],\n",
        "     [1999, 1.934]]\n",
        ")\n",
        "y = [1.56, 1.64, 1.77, 1.83, 2.5]\n",
        "\n",
        "X_test = np.array(\n",
        "    [[1629, 1.635],\n",
        "     [1853, 1.701],\n",
        "     [1356, 1.454]]\n",
        ")\n",
        "\n",
        "n_iter = 3\n",
        "lr = 0.001"
      ],
      "metadata": {
        "id": "KF3_szDIQUdr"
      },
      "execution_count": 165,
      "outputs": []
    },
    {
      "cell_type": "code",
      "source": [
        "X_to_print = pd.DataFrame(X, columns = ['x_1','x_2'])\n",
        "print(f'The original data (i.e., matrix X):')\n",
        "X_to_print"
      ],
      "metadata": {
        "colab": {
          "base_uri": "https://localhost:8080/",
          "height": 223
        },
        "id": "4lSv8GI_Qcd7",
        "outputId": "7a52def7-4b4f-4798-9324-1727ff937edf"
      },
      "execution_count": 166,
      "outputs": [
        {
          "output_type": "stream",
          "name": "stdout",
          "text": [
            "The original data (i.e., matrix X):\n"
          ]
        },
        {
          "output_type": "execute_result",
          "data": {
            "text/plain": [
              "      x_1    x_2\n",
              "0  1129.0  1.435\n",
              "1  1453.0  1.501\n",
              "2  1656.0  1.654\n",
              "3  1787.0  1.803\n",
              "4  1999.0  1.934"
            ],
            "text/html": [
              "\n",
              "  <div id=\"df-c6e8d044-b873-4adb-a083-a04951cd5b46\">\n",
              "    <div class=\"colab-df-container\">\n",
              "      <div>\n",
              "<style scoped>\n",
              "    .dataframe tbody tr th:only-of-type {\n",
              "        vertical-align: middle;\n",
              "    }\n",
              "\n",
              "    .dataframe tbody tr th {\n",
              "        vertical-align: top;\n",
              "    }\n",
              "\n",
              "    .dataframe thead th {\n",
              "        text-align: right;\n",
              "    }\n",
              "</style>\n",
              "<table border=\"1\" class=\"dataframe\">\n",
              "  <thead>\n",
              "    <tr style=\"text-align: right;\">\n",
              "      <th></th>\n",
              "      <th>x_1</th>\n",
              "      <th>x_2</th>\n",
              "    </tr>\n",
              "  </thead>\n",
              "  <tbody>\n",
              "    <tr>\n",
              "      <th>0</th>\n",
              "      <td>1129.0</td>\n",
              "      <td>1.435</td>\n",
              "    </tr>\n",
              "    <tr>\n",
              "      <th>1</th>\n",
              "      <td>1453.0</td>\n",
              "      <td>1.501</td>\n",
              "    </tr>\n",
              "    <tr>\n",
              "      <th>2</th>\n",
              "      <td>1656.0</td>\n",
              "      <td>1.654</td>\n",
              "    </tr>\n",
              "    <tr>\n",
              "      <th>3</th>\n",
              "      <td>1787.0</td>\n",
              "      <td>1.803</td>\n",
              "    </tr>\n",
              "    <tr>\n",
              "      <th>4</th>\n",
              "      <td>1999.0</td>\n",
              "      <td>1.934</td>\n",
              "    </tr>\n",
              "  </tbody>\n",
              "</table>\n",
              "</div>\n",
              "      <button class=\"colab-df-convert\" onclick=\"convertToInteractive('df-c6e8d044-b873-4adb-a083-a04951cd5b46')\"\n",
              "              title=\"Convert this dataframe to an interactive table.\"\n",
              "              style=\"display:none;\">\n",
              "        \n",
              "  <svg xmlns=\"http://www.w3.org/2000/svg\" height=\"24px\"viewBox=\"0 0 24 24\"\n",
              "       width=\"24px\">\n",
              "    <path d=\"M0 0h24v24H0V0z\" fill=\"none\"/>\n",
              "    <path d=\"M18.56 5.44l.94 2.06.94-2.06 2.06-.94-2.06-.94-.94-2.06-.94 2.06-2.06.94zm-11 1L8.5 8.5l.94-2.06 2.06-.94-2.06-.94L8.5 2.5l-.94 2.06-2.06.94zm10 10l.94 2.06.94-2.06 2.06-.94-2.06-.94-.94-2.06-.94 2.06-2.06.94z\"/><path d=\"M17.41 7.96l-1.37-1.37c-.4-.4-.92-.59-1.43-.59-.52 0-1.04.2-1.43.59L10.3 9.45l-7.72 7.72c-.78.78-.78 2.05 0 2.83L4 21.41c.39.39.9.59 1.41.59.51 0 1.02-.2 1.41-.59l7.78-7.78 2.81-2.81c.8-.78.8-2.07 0-2.86zM5.41 20L4 18.59l7.72-7.72 1.47 1.35L5.41 20z\"/>\n",
              "  </svg>\n",
              "      </button>\n",
              "      \n",
              "  <style>\n",
              "    .colab-df-container {\n",
              "      display:flex;\n",
              "      flex-wrap:wrap;\n",
              "      gap: 12px;\n",
              "    }\n",
              "\n",
              "    .colab-df-convert {\n",
              "      background-color: #E8F0FE;\n",
              "      border: none;\n",
              "      border-radius: 50%;\n",
              "      cursor: pointer;\n",
              "      display: none;\n",
              "      fill: #1967D2;\n",
              "      height: 32px;\n",
              "      padding: 0 0 0 0;\n",
              "      width: 32px;\n",
              "    }\n",
              "\n",
              "    .colab-df-convert:hover {\n",
              "      background-color: #E2EBFA;\n",
              "      box-shadow: 0px 1px 2px rgba(60, 64, 67, 0.3), 0px 1px 3px 1px rgba(60, 64, 67, 0.15);\n",
              "      fill: #174EA6;\n",
              "    }\n",
              "\n",
              "    [theme=dark] .colab-df-convert {\n",
              "      background-color: #3B4455;\n",
              "      fill: #D2E3FC;\n",
              "    }\n",
              "\n",
              "    [theme=dark] .colab-df-convert:hover {\n",
              "      background-color: #434B5C;\n",
              "      box-shadow: 0px 1px 3px 1px rgba(0, 0, 0, 0.15);\n",
              "      filter: drop-shadow(0px 1px 2px rgba(0, 0, 0, 0.3));\n",
              "      fill: #FFFFFF;\n",
              "    }\n",
              "  </style>\n",
              "\n",
              "      <script>\n",
              "        const buttonEl =\n",
              "          document.querySelector('#df-c6e8d044-b873-4adb-a083-a04951cd5b46 button.colab-df-convert');\n",
              "        buttonEl.style.display =\n",
              "          google.colab.kernel.accessAllowed ? 'block' : 'none';\n",
              "\n",
              "        async function convertToInteractive(key) {\n",
              "          const element = document.querySelector('#df-c6e8d044-b873-4adb-a083-a04951cd5b46');\n",
              "          const dataTable =\n",
              "            await google.colab.kernel.invokeFunction('convertToInteractive',\n",
              "                                                     [key], {});\n",
              "          if (!dataTable) return;\n",
              "\n",
              "          const docLinkHtml = 'Like what you see? Visit the ' +\n",
              "            '<a target=\"_blank\" href=https://colab.research.google.com/notebooks/data_table.ipynb>data table notebook</a>'\n",
              "            + ' to learn more about interactive tables.';\n",
              "          element.innerHTML = '';\n",
              "          dataTable['output_type'] = 'display_data';\n",
              "          await google.colab.output.renderOutput(dataTable, element);\n",
              "          const docLink = document.createElement('div');\n",
              "          docLink.innerHTML = docLinkHtml;\n",
              "          element.appendChild(docLink);\n",
              "        }\n",
              "      </script>\n",
              "    </div>\n",
              "  </div>\n",
              "  "
            ]
          },
          "metadata": {},
          "execution_count": 166
        }
      ]
    },
    {
      "cell_type": "code",
      "source": [
        "X_to_plot = X_to_print.copy()\n",
        "X_to_plot[\"y\"] = y\n",
        "sns.scatterplot(data=X_to_plot, x=\"x_1\", y=\"y\");"
      ],
      "metadata": {
        "colab": {
          "base_uri": "https://localhost:8080/",
          "height": 280
        },
        "id": "zstdPdsA7SSC",
        "outputId": "18f62de2-c621-4fcf-b16f-6da41e584ccc"
      },
      "execution_count": 167,
      "outputs": [
        {
          "output_type": "display_data",
          "data": {
            "text/plain": [
              "<Figure size 432x288 with 1 Axes>"
            ],
            "image/png": "[encoded data removed]"
          },
          "metadata": {
            "needs_background": "light"
          }
        }
      ]
    },
    {
      "cell_type": "code",
      "source": [
        "sns.scatterplot(data=X_to_plot, x=\"x_2\", y=\"y\");"
      ],
      "metadata": {
        "colab": {
          "base_uri": "https://localhost:8080/",
          "height": 280
        },
        "id": "u8jmBVA47y4s",
        "outputId": "134ee05e-c84d-4657-ebd9-a65e541f59e8"
      },
      "execution_count": 168,
      "outputs": [
        {
          "output_type": "display_data",
          "data": {
            "text/plain": [
              "<Figure size 432x288 with 1 Axes>"
            ],
            "image/png": "[encoded data removed]"
          },
          "metadata": {
            "needs_background": "light"
          }
        }
      ]
    },
    {
      "cell_type": "markdown",
      "source": [
        "# Standardize the continuous initial variables"
      ],
      "metadata": {
        "id": "oyNOcIc5QeNl"
      }
    },
    {
      "cell_type": "code",
      "source": [
        "X_std = (X - np.mean(X, axis=0)) / np.std(X, axis=0, ddof=1)\n",
        "X_std_to_print = pd.DataFrame(X_std, columns = ['x_1_std','x_2_std'])\n",
        "print(f'The standardised data (i.e., matrix X_std):')\n",
        "print(f'x_1_std mean = {X_std_to_print[\"x_1_std\"].mean():.2f}')\n",
        "print(f'x_1_std std = {X_std_to_print[\"x_1_std\"].std():.2f}')\n",
        "print(f'x_2_std mean = {X_std_to_print[\"x_2_std\"].mean():.2f}')\n",
        "print(f'x_2_std std = {X_std_to_print[\"x_2_std\"].std():.2f}')\n",
        "X_std_to_print"
      ],
      "metadata": {
        "colab": {
          "base_uri": "https://localhost:8080/",
          "height": 293
        },
        "id": "JNHR0jq_Qd1H",
        "outputId": "86ae9bc2-4be7-4139-9929-e3e69e0654d0"
      },
      "execution_count": 169,
      "outputs": [
        {
          "output_type": "stream",
          "name": "stdout",
          "text": [
            "The standardised data (i.e., matrix X_std):\n",
            "x_1_std mean = 0.00\n",
            "x_1_std std = 1.00\n",
            "x_2_std mean = -0.00\n",
            "x_2_std std = 1.00\n"
          ]
        },
        {
          "output_type": "execute_result",
          "data": {
            "text/plain": [
              "    x_1_std   x_2_std\n",
              "0 -1.433547 -1.113286\n",
              "1 -0.457361 -0.794376\n",
              "2  0.154262 -0.055084\n",
              "3  0.548954  0.664879\n",
              "4  1.187693  1.297868"
            ],
            "text/html": [
              "\n",
              "  <div id=\"df-a7d2b4a5-9baf-4f92-822e-d12fbede9a2a\">\n",
              "    <div class=\"colab-df-container\">\n",
              "      <div>\n",
              "<style scoped>\n",
              "    .dataframe tbody tr th:only-of-type {\n",
              "        vertical-align: middle;\n",
              "    }\n",
              "\n",
              "    .dataframe tbody tr th {\n",
              "        vertical-align: top;\n",
              "    }\n",
              "\n",
              "    .dataframe thead th {\n",
              "        text-align: right;\n",
              "    }\n",
              "</style>\n",
              "<table border=\"1\" class=\"dataframe\">\n",
              "  <thead>\n",
              "    <tr style=\"text-align: right;\">\n",
              "      <th></th>\n",
              "      <th>x_1_std</th>\n",
              "      <th>x_2_std</th>\n",
              "    </tr>\n",
              "  </thead>\n",
              "  <tbody>\n",
              "    <tr>\n",
              "      <th>0</th>\n",
              "      <td>-1.433547</td>\n",
              "      <td>-1.113286</td>\n",
              "    </tr>\n",
              "    <tr>\n",
              "      <th>1</th>\n",
              "      <td>-0.457361</td>\n",
              "      <td>-0.794376</td>\n",
              "    </tr>\n",
              "    <tr>\n",
              "      <th>2</th>\n",
              "      <td>0.154262</td>\n",
              "      <td>-0.055084</td>\n",
              "    </tr>\n",
              "    <tr>\n",
              "      <th>3</th>\n",
              "      <td>0.548954</td>\n",
              "      <td>0.664879</td>\n",
              "    </tr>\n",
              "    <tr>\n",
              "      <th>4</th>\n",
              "      <td>1.187693</td>\n",
              "      <td>1.297868</td>\n",
              "    </tr>\n",
              "  </tbody>\n",
              "</table>\n",
              "</div>\n",
              "      <button class=\"colab-df-convert\" onclick=\"convertToInteractive('df-a7d2b4a5-9baf-4f92-822e-d12fbede9a2a')\"\n",
              "              title=\"Convert this dataframe to an interactive table.\"\n",
              "              style=\"display:none;\">\n",
              "        \n",
              "  <svg xmlns=\"http://www.w3.org/2000/svg\" height=\"24px\"viewBox=\"0 0 24 24\"\n",
              "       width=\"24px\">\n",
              "    <path d=\"M0 0h24v24H0V0z\" fill=\"none\"/>\n",
              "    <path d=\"M18.56 5.44l.94 2.06.94-2.06 2.06-.94-2.06-.94-.94-2.06-.94 2.06-2.06.94zm-11 1L8.5 8.5l.94-2.06 2.06-.94-2.06-.94L8.5 2.5l-.94 2.06-2.06.94zm10 10l.94 2.06.94-2.06 2.06-.94-2.06-.94-.94-2.06-.94 2.06-2.06.94z\"/><path d=\"M17.41 7.96l-1.37-1.37c-.4-.4-.92-.59-1.43-.59-.52 0-1.04.2-1.43.59L10.3 9.45l-7.72 7.72c-.78.78-.78 2.05 0 2.83L4 21.41c.39.39.9.59 1.41.59.51 0 1.02-.2 1.41-.59l7.78-7.78 2.81-2.81c.8-.78.8-2.07 0-2.86zM5.41 20L4 18.59l7.72-7.72 1.47 1.35L5.41 20z\"/>\n",
              "  </svg>\n",
              "      </button>\n",
              "      \n",
              "  <style>\n",
              "    .colab-df-container {\n",
              "      display:flex;\n",
              "      flex-wrap:wrap;\n",
              "      gap: 12px;\n",
              "    }\n",
              "\n",
              "    .colab-df-convert {\n",
              "      background-color: #E8F0FE;\n",
              "      border: none;\n",
              "      border-radius: 50%;\n",
              "      cursor: pointer;\n",
              "      display: none;\n",
              "      fill: #1967D2;\n",
              "      height: 32px;\n",
              "      padding: 0 0 0 0;\n",
              "      width: 32px;\n",
              "    }\n",
              "\n",
              "    .colab-df-convert:hover {\n",
              "      background-color: #E2EBFA;\n",
              "      box-shadow: 0px 1px 2px rgba(60, 64, 67, 0.3), 0px 1px 3px 1px rgba(60, 64, 67, 0.15);\n",
              "      fill: #174EA6;\n",
              "    }\n",
              "\n",
              "    [theme=dark] .colab-df-convert {\n",
              "      background-color: #3B4455;\n",
              "      fill: #D2E3FC;\n",
              "    }\n",
              "\n",
              "    [theme=dark] .colab-df-convert:hover {\n",
              "      background-color: #434B5C;\n",
              "      box-shadow: 0px 1px 3px 1px rgba(0, 0, 0, 0.15);\n",
              "      filter: drop-shadow(0px 1px 2px rgba(0, 0, 0, 0.3));\n",
              "      fill: #FFFFFF;\n",
              "    }\n",
              "  </style>\n",
              "\n",
              "      <script>\n",
              "        const buttonEl =\n",
              "          document.querySelector('#df-a7d2b4a5-9baf-4f92-822e-d12fbede9a2a button.colab-df-convert');\n",
              "        buttonEl.style.display =\n",
              "          google.colab.kernel.accessAllowed ? 'block' : 'none';\n",
              "\n",
              "        async function convertToInteractive(key) {\n",
              "          const element = document.querySelector('#df-a7d2b4a5-9baf-4f92-822e-d12fbede9a2a');\n",
              "          const dataTable =\n",
              "            await google.colab.kernel.invokeFunction('convertToInteractive',\n",
              "                                                     [key], {});\n",
              "          if (!dataTable) return;\n",
              "\n",
              "          const docLinkHtml = 'Like what you see? Visit the ' +\n",
              "            '<a target=\"_blank\" href=https://colab.research.google.com/notebooks/data_table.ipynb>data table notebook</a>'\n",
              "            + ' to learn more about interactive tables.';\n",
              "          element.innerHTML = '';\n",
              "          dataTable['output_type'] = 'display_data';\n",
              "          await google.colab.output.renderOutput(dataTable, element);\n",
              "          const docLink = document.createElement('div');\n",
              "          docLink.innerHTML = docLinkHtml;\n",
              "          element.appendChild(docLink);\n",
              "        }\n",
              "      </script>\n",
              "    </div>\n",
              "  </div>\n",
              "  "
            ]
          },
          "metadata": {},
          "execution_count": 169
        }
      ]
    },
    {
      "cell_type": "code",
      "source": [
        "X_train_mean = np.mean(X, axis=0)\n",
        "print(f'X_train_mean: \\n{X_train_mean} \\n')\n",
        "X_train_std = np.std(X, axis=0, ddof=1)\n",
        "print(f'X_train_std: \\n{X_train_std} \\n')"
      ],
      "metadata": {
        "colab": {
          "base_uri": "https://localhost:8080/"
        },
        "id": "nJV91dPiQlaQ",
        "outputId": "8ac5ec7d-7166-4b72-c436-4ddf854d4b8d"
      },
      "execution_count": 170,
      "outputs": [
        {
          "output_type": "stream",
          "name": "stdout",
          "text": [
            "X_train_mean: \n",
            "[1604.8       1.6654] \n",
            "\n",
            "X_train_std: \n",
            "[3.31903902e+02 2.06954826e-01] \n",
            "\n"
          ]
        }
      ]
    },
    {
      "cell_type": "markdown",
      "source": [
        "# Standardize Y"
      ],
      "metadata": {
        "id": "sTFMgHyrQr4j"
      }
    },
    {
      "cell_type": "code",
      "source": [
        "y_train_mean = np.mean(y)\n",
        "print(f'y_train_mean: \\n{y_train_mean} \\n')\n",
        "y_train_std = np.std(y)\n",
        "print(f'y_train_std: \\n{y_train_std} \\n')\n",
        "y = [(a - y_train_mean)/y_train_std for a in y]\n",
        "print(f'STD y: \\n{y} \\n')"
      ],
      "metadata": {
        "colab": {
          "base_uri": "https://localhost:8080/"
        },
        "id": "DYQcWm7UQq9v",
        "outputId": "79f4b967-a850-47a1-9269-021510f954b6"
      },
      "execution_count": 171,
      "outputs": [
        {
          "output_type": "stream",
          "name": "stdout",
          "text": [
            "y_train_mean: \n",
            "1.86 \n",
            "\n",
            "y_train_std: \n",
            "0.3337663853655727 \n",
            "\n",
            "STD y: \n",
            "[-0.8988322765679699, -0.6591436694831784, -0.26964968297039116, -0.08988322765679706, 1.9175088566783351] \n",
            "\n"
          ]
        }
      ]
    },
    {
      "cell_type": "markdown",
      "source": [
        "# Compute coefficients"
      ],
      "metadata": {
        "id": "AxWmFPHiQv_p"
      }
    },
    {
      "cell_type": "code",
      "source": [
        "# add the w_0 intercept where the corresponding x_0 = 1\n",
        "Xp = np.concatenate([np.zeros((X_std.shape[0], 1)), X_std], axis=1)\n",
        "print(f'X: \\n{Xp}\\n')\n",
        "print(f'XT: \\n{Xp.T}\\n')\n",
        "print(f'Y: \\n{y}\\n')\n",
        "\n",
        "m = Xp.shape[0]  # sample size\n",
        "print(f'Sample size: {m}\\n')\n",
        "\n",
        "hist = np.zeros(n_iter)\n",
        "# get coefficients\n",
        "beta = np.zeros(Xp.shape[1])\n",
        "for i in range(n_iter):\n",
        "    print(f'Iteration #{i}:')\n",
        "    y_hat = np.exp(np.dot(Xp, beta))\n",
        "    print(f'Current linear prediction {np.dot(Xp, beta)}')\n",
        "    print(f'Current prediction {y_hat}')\n",
        "    dLdbeta = np.dot(Xp.T, y_hat - y) / m\n",
        "\n",
        "    loss = (y_hat - np.log(y_hat) * y).mean()\n",
        "    print(f'Current loss: {loss}')\n",
        "    hist[i] = loss\n",
        "\n",
        "    print(f'Current residuals {y_hat - y}')\n",
        "    print(f'Current derivatives {dLdbeta}')\n",
        "    beta -= lr*dLdbeta\n",
        "    print(f'Current coefficients {beta}')\n",
        "    print(f'-'*10)\n",
        "\n",
        "print(f'beta: \\n{beta} \\n')"
      ],
      "metadata": {
        "colab": {
          "base_uri": "https://localhost:8080/"
        },
        "id": "qUVo3fviQuN3",
        "outputId": "6ad6f3ab-0bca-404f-95e0-d72b06a7e320"
      },
      "execution_count": 172,
      "outputs": [
        {
          "output_type": "stream",
          "name": "stdout",
          "text": [
            "X: \n",
            "[[ 0.         -1.43354747 -1.11328643]\n",
            " [ 0.         -0.4573613  -0.79437626]\n",
            " [ 0.          0.15426152 -0.05508448]\n",
            " [ 0.          0.54895408  0.6648794 ]\n",
            " [ 0.          1.18769318  1.29786778]]\n",
            "\n",
            "XT: \n",
            "[[ 0.          0.          0.          0.          0.        ]\n",
            " [-1.43354747 -0.4573613   0.15426152  0.54895408  1.18769318]\n",
            " [-1.11328643 -0.79437626 -0.05508448  0.6648794   1.29786778]]\n",
            "\n",
            "Y: \n",
            "[-0.8988322765679699, -0.6591436694831784, -0.26964968297039116, -0.08988322765679706, 1.9175088566783351]\n",
            "\n",
            "Sample size: 5\n",
            "\n",
            "Iteration #0:\n",
            "Current linear prediction [0. 0. 0. 0. 0.]\n",
            "Current prediction [1. 1. 1. 1. 1.]\n",
            "Current loss: 1.0\n",
            "Current residuals [ 1.89883228  1.65914367  1.26964968  1.08988323 -0.91750886]\n",
            "Current derivatives [ 0.         -0.75529188 -0.79360617]\n",
            "Current coefficients [0.         0.00075529 0.00079361]\n",
            "----------\n",
            "Iteration #1:\n",
            "Current linear prediction [-1.96625774e-03 -9.75863171e-04  7.27970857e-05  9.42272946e-04\n",
            "  1.92705088e-03]\n",
            "Current prediction [0.99803567 0.99902461 1.0000728  1.00094272 1.00192891]\n",
            "Current loss: 0.9988006659312635\n",
            "Current residuals [ 1.89686795  1.65816828  1.26972248  1.09082594 -0.91557995]\n",
            "Current derivatives [ 0.         -0.75407553 -0.79238858]\n",
            "Current coefficients [0.         0.00150937 0.00158599]\n",
            "----------\n",
            "Iteration #2:\n",
            "Current linear prediction [-0.00392942 -0.0019502   0.00014547  0.00188307  0.00385108]\n",
            "Current prediction [0.99607829 0.9980517  1.00014548 1.00188484 1.0038585 ]\n",
            "Current loss: 0.9976050958566309\n",
            "Current residuals [ 1.89491057  1.65719537  1.26979517  1.09176807 -0.91365035]\n",
            "Current derivatives [ 0.         -0.7528613  -0.79117283]\n",
            "Current coefficients [0.         0.00226223 0.00237717]\n",
            "----------\n",
            "beta: \n",
            "[0.         0.00226223 0.00237717] \n",
            "\n"
          ]
        }
      ]
    },
    {
      "cell_type": "markdown",
      "source": [
        "# Visualization (the learning phase)"
      ],
      "metadata": {
        "id": "nOnRF5lyr8oM"
      }
    },
    {
      "cell_type": "code",
      "source": [
        "plt.plot(hist, 'b', color='#fcb103')\n",
        "plt.title(u'Loss per iteration')\n",
        "plt.xlabel(u'iteration')\n",
        "plt.ylabel(r'$Loss(Y_hat, Y)$')\n",
        "plt.figtext(x=.6, y=.6, s=f\"At the final iteration:\\n\\n {beta}\")\n",
        "plt.show()"
      ],
      "metadata": {
        "colab": {
          "base_uri": "https://localhost:8080/",
          "height": 295
        },
        "id": "D5WZ22zLq8Zd",
        "outputId": "7cd43f3f-496b-4927-d202-1246fce8af8c"
      },
      "execution_count": 173,
      "outputs": [
        {
          "output_type": "display_data",
          "data": {
            "text/plain": [
              "<Figure size 432x288 with 1 Axes>"
            ],
            "image/png": "[encoded data removed]"
          },
          "metadata": {
            "needs_background": "light"
          }
        }
      ]
    },
    {
      "cell_type": "markdown",
      "source": [
        "# Predict (test set)"
      ],
      "metadata": {
        "id": "xnQQjd47RMvM"
      }
    },
    {
      "cell_type": "code",
      "source": [
        "print(f'X_test: \\n{X_test} \\n')\n",
        "\n",
        "X_test_std = (X_test - X_train_mean) / X_train_std\n",
        "print(f'STD X_test: \\n{X_test_std} \\n')\n",
        "\n",
        "Xp_test = np.concatenate([np.zeros((X_test_std.shape[0], 1)), X_test_std], axis=1)\n",
        "print(f'Adding zeros STD X_test: \\n{Xp_test} \\n')\n",
        "\n",
        "y_pred = Xp_test.dot(beta.T)\n",
        "print(f'y_pred: \\n{y_pred} \\n')\n",
        "\n",
        "print(f'y_pred restandertaization: \\n{y_pred*y_train_std+y_train_mean} \\n')"
      ],
      "metadata": {
        "colab": {
          "base_uri": "https://localhost:8080/"
        },
        "id": "ea4Qo8KyRLDn",
        "outputId": "207f98f1-78eb-40fa-dad5-8b077168d1aa"
      },
      "execution_count": 174,
      "outputs": [
        {
          "output_type": "stream",
          "name": "stdout",
          "text": [
            "X_test: \n",
            "[[1.629e+03 1.635e+00]\n",
            " [1.853e+03 1.701e+00]\n",
            " [1.356e+03 1.454e+00]] \n",
            "\n",
            "STD X_test: \n",
            "[[ 0.07291267 -0.14689196]\n",
            " [ 0.74780682  0.17201822]\n",
            " [-0.74961457 -1.02147896]] \n",
            "\n",
            "Adding zeros STD X_test: \n",
            "[[ 0.          0.07291267 -0.14689196]\n",
            " [ 0.          0.74780682  0.17201822]\n",
            " [ 0.         -0.74961457 -1.02147896]] \n",
            "\n",
            "y_pred: \n",
            "[-0.00018424  0.00210063 -0.00412403] \n",
            "\n",
            "y_pred restandertaization: \n",
            "[1.85993851 1.86070112 1.85862354] \n",
            "\n"
          ]
        }
      ]
    },
    {
      "cell_type": "markdown",
      "source": [
        "# Test 1\n",
        "Source: https://dafriedman97.github.io/mlbook/content/c2/s2/GLMs.html"
      ],
      "metadata": {
        "id": "QRnheedtRZ-X"
      }
    },
    {
      "cell_type": "code",
      "source": [
        "class PoissonRegression:\n",
        "    \n",
        "    def fit(self, X, y, n_iter = 1000, lr = 0.00001):\n",
        "        zeros = np.zeros(len(X)).reshape((len(X), 1))\n",
        "        X = np.append(zeros, X, axis = 1)\n",
        "        self.X = X\n",
        "        self.y = y\n",
        "        \n",
        "        # get coefficients\n",
        "        beta_hats = np.zeros(X.shape[1])\n",
        "        for i in range(n_iter):\n",
        "            y_hat = np.exp(np.dot(X, beta_hats))\n",
        "            dLdbeta = np.dot(X.T, y_hat - y) / X.shape[0]\n",
        "            beta_hats -= lr*dLdbeta\n",
        "\n",
        "        # save coefficients and fitted values\n",
        "        self.beta_hats = beta_hats\n",
        "        self.y_hat = y_hat\n",
        "            "
      ],
      "metadata": {
        "id": "JP5hjxRdRZi0"
      },
      "execution_count": 175,
      "outputs": []
    },
    {
      "cell_type": "code",
      "source": [
        "model = PoissonRegression()\n",
        "model.fit(X_std, y, n_iter = 3, lr = 0.001)\n",
        "model.beta_hats"
      ],
      "metadata": {
        "colab": {
          "base_uri": "https://localhost:8080/"
        },
        "id": "UG7azi2nRepT",
        "outputId": "7fb0acc1-5ae0-423d-d44b-b3a9dfc6a21b"
      },
      "execution_count": 176,
      "outputs": [
        {
          "output_type": "execute_result",
          "data": {
            "text/plain": [
              "array([0.        , 0.00226223, 0.00237717])"
            ]
          },
          "metadata": {},
          "execution_count": 176
        }
      ]
    },
    {
      "cell_type": "markdown",
      "source": [
        "# Test 2\n",
        "Source: https://github.com/ximenasandoval/Poisson_regression/blob/main/Poisson%20regression%20model.ipynb\n"
      ],
      "metadata": {
        "id": "3bFVdNfsph4H"
      }
    },
    {
      "cell_type": "code",
      "source": [
        "def loss(x, y, w, b):\n",
        "    y_hat = np.exp(x @ w + b)\n",
        "    # You can use the normal MSE error too! \n",
        "    #error = np.square(y_hat - y).mean() / 2\n",
        "    error = (y_hat - np.log(y_hat) * y).mean()\n",
        "    return error\n",
        "\n",
        "def grad(x, y, w, b):\n",
        "    M, n = x.shape\n",
        "    y_hat = np.exp(x @ w + b)\n",
        "    dw = (x.T @ (y_hat - y)) / M\n",
        "    db = (y_hat - y).mean()\n",
        "    return dw, db\n",
        "\n",
        "def gradient_descent(x, y, w_0, b_0, alpha, num_iter):\n",
        "    w, b = w_0.copy(), b_0\n",
        "    hist = np.zeros(num_iter)\n",
        "    M, n = x.shape\n",
        "    \n",
        "    for iter in range(num_iter):\n",
        "        dw, db = grad(x, y, w, b)\n",
        "        w -= alpha * dw \n",
        "        # b -= alpha * db\n",
        "        hist[iter] = loss(x, y, w, b)\n",
        "\n",
        "    return w, b, hist\n",
        "\n",
        "w, b, hist = gradient_descent(x=X_std, y=y, w_0=np.zeros((X_std.shape[1], )), b_0=0, alpha=lr, num_iter=n_iter)"
      ],
      "metadata": {
        "id": "GygLY4pyphkU"
      },
      "execution_count": 177,
      "outputs": []
    },
    {
      "cell_type": "code",
      "source": [
        "b, w"
      ],
      "metadata": {
        "colab": {
          "base_uri": "https://localhost:8080/"
        },
        "id": "FqwSExHgqn_Y",
        "outputId": "a6cefaad-c7c1-4379-8297-d55728e530d8"
      },
      "execution_count": 178,
      "outputs": [
        {
          "output_type": "execute_result",
          "data": {
            "text/plain": [
              "(0, array([0.00226223, 0.00237717]))"
            ]
          },
          "metadata": {},
          "execution_count": 178
        }
      ]
    },
    {
      "cell_type": "code",
      "source": [
        "print(f'beta: \\n{beta} \\n')\n",
        "print(f'test 1 beta: \\n{model.beta_hats} \\n')\n",
        "print(f'test 2 beta: \\n{b} {w} \\n')"
      ],
      "metadata": {
        "colab": {
          "base_uri": "https://localhost:8080/"
        },
        "id": "bHKpaH5h8R_4",
        "outputId": "b52655d8-aa71-49b3-8ca3-14380f7cfde8"
      },
      "execution_count": 179,
      "outputs": [
        {
          "output_type": "stream",
          "name": "stdout",
          "text": [
            "beta: \n",
            "[0.         0.00226223 0.00237717] \n",
            "\n",
            "test 1 beta: \n",
            "[0.         0.00226223 0.00237717] \n",
            "\n",
            "test 2 beta: \n",
            "0 [0.00226223 0.00237717] \n",
            "\n"
          ]
        }
      ]
    }
  ]
}