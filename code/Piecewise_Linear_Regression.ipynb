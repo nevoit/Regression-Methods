{
  "nbformat": 4,
  "nbformat_minor": 0,
  "metadata": {
    "colab": {
      "name": "Piecewise_Linear_Regression.ipynb",
      "provenance": []
    },
    "kernelspec": {
      "name": "python3",
      "display_name": "Python 3"
    },
    "language_info": {
      "name": "python"
    }
  },
  "cells": [
    {
      "cell_type": "code",
      "source": [
        "from matplotlib.pyplot import figure\n",
        "import copy\n",
        "import matplotlib.pyplot as plt\n",
        "import seaborn as sns;\n",
        "from sklearn.linear_model import LinearRegression\n",
        "import numpy as np\n",
        "import pandas as pd"
      ],
      "metadata": {
        "id": "ifrX3nWcXQEB"
      },
      "execution_count": null,
      "outputs": []
    },
    {
      "cell_type": "markdown",
      "source": [
        "# Parameters"
      ],
      "metadata": {
        "id": "T-ybhsesX3g2"
      }
    },
    {
      "cell_type": "code",
      "source": [
        "X1 = [\n",
        "      [1129],\n",
        "      [1453],\n",
        "      [1540]\n",
        "      ]\n",
        "y1 = [1.56, 1.64, 1.71]\n",
        "\n",
        "X2 =[\n",
        "     [1651],\n",
        "     [1681],\n",
        "     [1787]\n",
        "     ]\n",
        "y2 = [1.93, 2.01, 2.15]\n",
        "\n",
        "knot=1600"
      ],
      "metadata": {
        "id": "S4-RkqjVXRHC"
      },
      "execution_count": null,
      "outputs": []
    },
    {
      "cell_type": "code",
      "execution_count": null,
      "metadata": {
        "colab": {
          "base_uri": "https://localhost:8080/",
          "height": 649
        },
        "id": "FzJuU3MUXH8D",
        "outputId": "19f76d34-ebbd-46b4-b1f6-42754efc237b"
      },
      "outputs": [
        {
          "output_type": "stream",
          "name": "stdout",
          "text": [
            "X1: \n",
            "[[1129], [1453], [1540]] \n",
            "\n",
            "y1: \n",
            "[1.56, 1.64, 1.71] \n",
            "\n",
            "X2: \n",
            "[[1651], [1681], [1787]] \n",
            "\n",
            "y2: \n",
            "[1.93, 2.01, 2.15] \n",
            "\n"
          ]
        },
        {
          "output_type": "display_data",
          "data": {
            "text/plain": [
              "<Figure size 504x504 with 1 Axes>"
            ],
            "image/png": "[encoded data removed]"
          },
          "metadata": {
            "needs_background": "light"
          }
        }
      ],
      "source": [
        "print(f'X1: \\n{X1} \\n')\n",
        "print(f'y1: \\n{y1} \\n')\n",
        "print(f'X2: \\n{X2} \\n')\n",
        "print(f'y2: \\n{y2} \\n')\n",
        "\n",
        "plt.rcParams[\"figure.figsize\"] = (7,7)\n",
        "plt.plot(X1, y1, 'o');\n",
        "plt.plot(X2, y2, 'x');\n",
        "plt.vlines(x=knot, ymin=min(y2+y1), ymax=max(y2+y1), colors='black', ls='--', lw=2, label='vline_multiple');"
      ]
    },
    {
      "cell_type": "code",
      "source": [
        "lin_reg_1 = LinearRegression(fit_intercept=True)\n",
        "lin_reg_1.fit(X1, y1)\n",
        "beta_0_1 = lin_reg_1.intercept_\n",
        "beta1_1 = lin_reg_1.coef_\n",
        "print('coef 1:')\n",
        "print(np.array([beta_0_1] + list(beta1_1)))"
      ],
      "metadata": {
        "colab": {
          "base_uri": "https://localhost:8080/"
        },
        "id": "S7wttmUCXeFU",
        "outputId": "28ccb685-ebe6-4ec8-bcb6-8855c879fa6a"
      },
      "execution_count": null,
      "outputs": [
        {
          "output_type": "stream",
          "name": "stdout",
          "text": [
            "coef 1:\n",
            "[1.17945748e+00 3.32757775e-04]\n"
          ]
        }
      ]
    },
    {
      "cell_type": "code",
      "source": [
        "force_x = knot\n",
        "force_y = beta_0_1 + beta1_1[0] * force_x\n",
        "print(f'Forced point: x:{force_x}, y:{force_y}')\n",
        "X2_transformed = copy.deepcopy(X2)\n",
        "y2_transformed = copy.deepcopy(y2)\n",
        "for i in range(len(y2)):\n",
        "  X2_transformed[i][0] = X2_transformed[i][0] - force_x\n",
        "  y2_transformed[i] = y2_transformed[i] - force_y"
      ],
      "metadata": {
        "colab": {
          "base_uri": "https://localhost:8080/"
        },
        "id": "uw2x76X5Xfol",
        "outputId": "32fa258b-ebed-4b72-8519-3c4268bb69e1"
      },
      "execution_count": null,
      "outputs": [
        {
          "output_type": "stream",
          "name": "stdout",
          "text": [
            "Forced point: x:1600, y:1.7118699238984458\n"
          ]
        }
      ]
    },
    {
      "cell_type": "code",
      "source": [
        "lin_reg_2 = LinearRegression(fit_intercept=False)\n",
        "lin_reg_2.fit(X2_transformed, y2_transformed)\n",
        "beta_0_2 = lin_reg_2.intercept_\n",
        "beta1_2 = lin_reg_2.coef_\n",
        "# at_knot_2 = beta1_2[0] * knot\n",
        "# beta_0_2 = at_knot_1 - at_knot_2\n",
        "print('coef 2:')\n",
        "print(np.array([beta_0_2] + list(beta1_2)))"
      ],
      "metadata": {
        "colab": {
          "base_uri": "https://localhost:8080/"
        },
        "id": "jxs9iMaGXgiu",
        "outputId": "76c1b2d6-9020-427a-ad78-4e2769f6f703"
      },
      "execution_count": null,
      "outputs": [
        {
          "output_type": "stream",
          "name": "stdout",
          "text": [
            "coef 2:\n",
            "[0.         0.00265581]\n"
          ]
        }
      ]
    },
    {
      "cell_type": "code",
      "source": [
        "plt.rcParams[\"figure.figsize\"] = (7,7)\n",
        "plt.plot(X1, y1, 'o');\n",
        "plt.plot(X1 + [[force_x]], beta_0_1 + beta1_1*(X1 + [[force_x]]))\n",
        "\n",
        "plt.plot(X2, y2, 'x');\n",
        "plt.plot(X2 + [[force_x]], beta_0_2 + beta1_2*(X2_transformed + [[0]]) + force_y);\n",
        "\n",
        "print(f'beta zero (first): \\n{beta_0_1} \\n')\n",
        "print(f'beta zero (second): \\n{beta_0_2} \\n')"
      ],
      "metadata": {
        "colab": {
          "base_uri": "https://localhost:8080/",
          "height": 539
        },
        "id": "F7zJnze_XZg2",
        "outputId": "67100d79-0e78-4255-a9e9-961349ef677c"
      },
      "execution_count": null,
      "outputs": [
        {
          "output_type": "stream",
          "name": "stdout",
          "text": [
            "beta zero (first): \n",
            "1.1794574833194775 \n",
            "\n",
            "beta zero (second): \n",
            "0.0 \n",
            "\n"
          ]
        },
        {
          "output_type": "display_data",
          "data": {
            "text/plain": [
              "<Figure size 504x504 with 1 Axes>"
            ],
            "image/png": "[encoded data removed]"
          },
          "metadata": {
            "needs_background": "light"
          }
        }
      ]
    }
  ]
}