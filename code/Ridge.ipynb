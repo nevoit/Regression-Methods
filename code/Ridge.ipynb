{
  "nbformat": 4,
  "nbformat_minor": 0,
  "metadata": {
    "colab": {
      "name": "Ridge.ipynb",
      "provenance": []
    },
    "kernelspec": {
      "name": "python3",
      "display_name": "Python 3"
    },
    "language_info": {
      "name": "python"
    }
  },
  "cells": [
    {
      "cell_type": "code",
      "source": [
        "import numpy as np\n",
        "import pandas as pd\n",
        "import matplotlib.pyplot as plt\n",
        "import seaborn as sns\n",
        "from sklearn.linear_model import Ridge"
      ],
      "metadata": {
        "id": "Sasx4cdyTs_n"
      },
      "execution_count": 70,
      "outputs": []
    },
    {
      "cell_type": "markdown",
      "source": [
        "# Parameters"
      ],
      "metadata": {
        "id": "xS7_cJsqWVtX"
      }
    },
    {
      "cell_type": "code",
      "source": [
        "X = np.array(\n",
        "    [[1129, 1.435],\n",
        "     [1453, 1.601],\n",
        "     [1656, 1.654],\n",
        "     [1787, 1.803],\n",
        "     [1611, 1.734]]\n",
        ")\n",
        "y = [1.56, 1.64, 1.77, 1.83, 2.5]\n",
        "\n",
        "X_test = np.array(\n",
        "    [[1629, 1.635],\n",
        "     [1853, 1.701],\n",
        "     [1356, 1.454]]\n",
        ")\n",
        "lambd = 0.5"
      ],
      "metadata": {
        "id": "_aYvGcW6ThfB"
      },
      "execution_count": 71,
      "outputs": []
    },
    {
      "cell_type": "code",
      "source": [
        "X_to_print = pd.DataFrame(X, columns = ['x_1','x_2'])\n",
        "print(f'The original data (i.e., matrix X):')\n",
        "X_to_print"
      ],
      "metadata": {
        "colab": {
          "base_uri": "https://localhost:8080/",
          "height": 225
        },
        "id": "9TPco5GETlaL",
        "outputId": "3017d4f0-ac2a-4f71-f86e-4eb9619a296c"
      },
      "execution_count": 72,
      "outputs": [
        {
          "output_type": "stream",
          "name": "stdout",
          "text": [
            "The original data (i.e., matrix X):\n"
          ]
        },
        {
          "output_type": "execute_result",
          "data": {
            "text/plain": [
              "      x_1    x_2\n",
              "0  1129.0  1.435\n",
              "1  1453.0  1.601\n",
              "2  1656.0  1.654\n",
              "3  1787.0  1.803\n",
              "4  1611.0  1.734"
            ],
            "text/html": [
              "\n",
              "  <div id=\"df-20a94419-0993-4453-87a6-dc73238a12a8\">\n",
              "    <div class=\"colab-df-container\">\n",
              "      <div>\n",
              "<style scoped>\n",
              "    .dataframe tbody tr th:only-of-type {\n",
              "        vertical-align: middle;\n",
              "    }\n",
              "\n",
              "    .dataframe tbody tr th {\n",
              "        vertical-align: top;\n",
              "    }\n",
              "\n",
              "    .dataframe thead th {\n",
              "        text-align: right;\n",
              "    }\n",
              "</style>\n",
              "<table border=\"1\" class=\"dataframe\">\n",
              "  <thead>\n",
              "    <tr style=\"text-align: right;\">\n",
              "      <th></th>\n",
              "      <th>x_1</th>\n",
              "      <th>x_2</th>\n",
              "    </tr>\n",
              "  </thead>\n",
              "  <tbody>\n",
              "    <tr>\n",
              "      <th>0</th>\n",
              "      <td>1129.0</td>\n",
              "      <td>1.435</td>\n",
              "    </tr>\n",
              "    <tr>\n",
              "      <th>1</th>\n",
              "      <td>1453.0</td>\n",
              "      <td>1.601</td>\n",
              "    </tr>\n",
              "    <tr>\n",
              "      <th>2</th>\n",
              "      <td>1656.0</td>\n",
              "      <td>1.654</td>\n",
              "    </tr>\n",
              "    <tr>\n",
              "      <th>3</th>\n",
              "      <td>1787.0</td>\n",
              "      <td>1.803</td>\n",
              "    </tr>\n",
              "    <tr>\n",
              "      <th>4</th>\n",
              "      <td>1611.0</td>\n",
              "      <td>1.734</td>\n",
              "    </tr>\n",
              "  </tbody>\n",
              "</table>\n",
              "</div>\n",
              "      <button class=\"colab-df-convert\" onclick=\"convertToInteractive('df-20a94419-0993-4453-87a6-dc73238a12a8')\"\n",
              "              title=\"Convert this dataframe to an interactive table.\"\n",
              "              style=\"display:none;\">\n",
              "        \n",
              "  <svg xmlns=\"http://www.w3.org/2000/svg\" height=\"24px\"viewBox=\"0 0 24 24\"\n",
              "       width=\"24px\">\n",
              "    <path d=\"M0 0h24v24H0V0z\" fill=\"none\"/>\n",
              "    <path d=\"M18.56 5.44l.94 2.06.94-2.06 2.06-.94-2.06-.94-.94-2.06-.94 2.06-2.06.94zm-11 1L8.5 8.5l.94-2.06 2.06-.94-2.06-.94L8.5 2.5l-.94 2.06-2.06.94zm10 10l.94 2.06.94-2.06 2.06-.94-2.06-.94-.94-2.06-.94 2.06-2.06.94z\"/><path d=\"M17.41 7.96l-1.37-1.37c-.4-.4-.92-.59-1.43-.59-.52 0-1.04.2-1.43.59L10.3 9.45l-7.72 7.72c-.78.78-.78 2.05 0 2.83L4 21.41c.39.39.9.59 1.41.59.51 0 1.02-.2 1.41-.59l7.78-7.78 2.81-2.81c.8-.78.8-2.07 0-2.86zM5.41 20L4 18.59l7.72-7.72 1.47 1.35L5.41 20z\"/>\n",
              "  </svg>\n",
              "      </button>\n",
              "      \n",
              "  <style>\n",
              "    .colab-df-container {\n",
              "      display:flex;\n",
              "      flex-wrap:wrap;\n",
              "      gap: 12px;\n",
              "    }\n",
              "\n",
              "    .colab-df-convert {\n",
              "      background-color: #E8F0FE;\n",
              "      border: none;\n",
              "      border-radius: 50%;\n",
              "      cursor: pointer;\n",
              "      display: none;\n",
              "      fill: #1967D2;\n",
              "      height: 32px;\n",
              "      padding: 0 0 0 0;\n",
              "      width: 32px;\n",
              "    }\n",
              "\n",
              "    .colab-df-convert:hover {\n",
              "      background-color: #E2EBFA;\n",
              "      box-shadow: 0px 1px 2px rgba(60, 64, 67, 0.3), 0px 1px 3px 1px rgba(60, 64, 67, 0.15);\n",
              "      fill: #174EA6;\n",
              "    }\n",
              "\n",
              "    [theme=dark] .colab-df-convert {\n",
              "      background-color: #3B4455;\n",
              "      fill: #D2E3FC;\n",
              "    }\n",
              "\n",
              "    [theme=dark] .colab-df-convert:hover {\n",
              "      background-color: #434B5C;\n",
              "      box-shadow: 0px 1px 3px 1px rgba(0, 0, 0, 0.15);\n",
              "      filter: drop-shadow(0px 1px 2px rgba(0, 0, 0, 0.3));\n",
              "      fill: #FFFFFF;\n",
              "    }\n",
              "  </style>\n",
              "\n",
              "      <script>\n",
              "        const buttonEl =\n",
              "          document.querySelector('#df-20a94419-0993-4453-87a6-dc73238a12a8 button.colab-df-convert');\n",
              "        buttonEl.style.display =\n",
              "          google.colab.kernel.accessAllowed ? 'block' : 'none';\n",
              "\n",
              "        async function convertToInteractive(key) {\n",
              "          const element = document.querySelector('#df-20a94419-0993-4453-87a6-dc73238a12a8');\n",
              "          const dataTable =\n",
              "            await google.colab.kernel.invokeFunction('convertToInteractive',\n",
              "                                                     [key], {});\n",
              "          if (!dataTable) return;\n",
              "\n",
              "          const docLinkHtml = 'Like what you see? Visit the ' +\n",
              "            '<a target=\"_blank\" href=https://colab.research.google.com/notebooks/data_table.ipynb>data table notebook</a>'\n",
              "            + ' to learn more about interactive tables.';\n",
              "          element.innerHTML = '';\n",
              "          dataTable['output_type'] = 'display_data';\n",
              "          await google.colab.output.renderOutput(dataTable, element);\n",
              "          const docLink = document.createElement('div');\n",
              "          docLink.innerHTML = docLinkHtml;\n",
              "          element.appendChild(docLink);\n",
              "        }\n",
              "      </script>\n",
              "    </div>\n",
              "  </div>\n",
              "  "
            ]
          },
          "metadata": {},
          "execution_count": 72
        }
      ]
    },
    {
      "cell_type": "markdown",
      "source": [
        "#Standardize the continuous initial variables"
      ],
      "metadata": {
        "id": "kZ1M8rJRTpVk"
      }
    },
    {
      "cell_type": "code",
      "source": [
        "X_std = (X - np.mean(X, axis=0)) / np.std(X, axis=0, ddof=1)\n",
        "X_std_to_print = pd.DataFrame(X_std, columns = ['x_1_std','x_2_std'])\n",
        "print(f'The standardised data (i.e., matrix X_std):')\n",
        "print(f'x_1_std mean = {X_std_to_print[\"x_1_std\"].mean():.2f}')\n",
        "print(f'x_1_std std = {X_std_to_print[\"x_1_std\"].std():.2f}')\n",
        "print(f'x_2_std mean = {X_std_to_print[\"x_2_std\"].mean():.2f}')\n",
        "print(f'x_2_std std = {X_std_to_print[\"x_2_std\"].std():.2f}')\n",
        "X_std_to_print"
      ],
      "metadata": {
        "colab": {
          "base_uri": "https://localhost:8080/",
          "height": 298
        },
        "id": "xPa0-i6gToxX",
        "outputId": "64f3801c-2612-42b2-c7c8-7d88a2d1b6ad"
      },
      "execution_count": 73,
      "outputs": [
        {
          "output_type": "stream",
          "name": "stdout",
          "text": [
            "The standardised data (i.e., matrix X_std):\n",
            "x_1_std mean = -0.00\n",
            "x_1_std std = 1.00\n",
            "x_2_std mean = -0.00\n",
            "x_2_std std = 1.00\n"
          ]
        },
        {
          "output_type": "execute_result",
          "data": {
            "text/plain": [
              "    x_1_std   x_2_std\n",
              "0 -1.576561 -1.497128\n",
              "1 -0.293774 -0.315934\n",
              "2  0.509947  0.061194\n",
              "3  1.028605  1.121423\n",
              "4  0.331782  0.630445"
            ],
            "text/html": [
              "\n",
              "  <div id=\"df-e9d94b74-0fbd-4160-b05f-5f985ce30140\">\n",
              "    <div class=\"colab-df-container\">\n",
              "      <div>\n",
              "<style scoped>\n",
              "    .dataframe tbody tr th:only-of-type {\n",
              "        vertical-align: middle;\n",
              "    }\n",
              "\n",
              "    .dataframe tbody tr th {\n",
              "        vertical-align: top;\n",
              "    }\n",
              "\n",
              "    .dataframe thead th {\n",
              "        text-align: right;\n",
              "    }\n",
              "</style>\n",
              "<table border=\"1\" class=\"dataframe\">\n",
              "  <thead>\n",
              "    <tr style=\"text-align: right;\">\n",
              "      <th></th>\n",
              "      <th>x_1_std</th>\n",
              "      <th>x_2_std</th>\n",
              "    </tr>\n",
              "  </thead>\n",
              "  <tbody>\n",
              "    <tr>\n",
              "      <th>0</th>\n",
              "      <td>-1.576561</td>\n",
              "      <td>-1.497128</td>\n",
              "    </tr>\n",
              "    <tr>\n",
              "      <th>1</th>\n",
              "      <td>-0.293774</td>\n",
              "      <td>-0.315934</td>\n",
              "    </tr>\n",
              "    <tr>\n",
              "      <th>2</th>\n",
              "      <td>0.509947</td>\n",
              "      <td>0.061194</td>\n",
              "    </tr>\n",
              "    <tr>\n",
              "      <th>3</th>\n",
              "      <td>1.028605</td>\n",
              "      <td>1.121423</td>\n",
              "    </tr>\n",
              "    <tr>\n",
              "      <th>4</th>\n",
              "      <td>0.331782</td>\n",
              "      <td>0.630445</td>\n",
              "    </tr>\n",
              "  </tbody>\n",
              "</table>\n",
              "</div>\n",
              "      <button class=\"colab-df-convert\" onclick=\"convertToInteractive('df-e9d94b74-0fbd-4160-b05f-5f985ce30140')\"\n",
              "              title=\"Convert this dataframe to an interactive table.\"\n",
              "              style=\"display:none;\">\n",
              "        \n",
              "  <svg xmlns=\"http://www.w3.org/2000/svg\" height=\"24px\"viewBox=\"0 0 24 24\"\n",
              "       width=\"24px\">\n",
              "    <path d=\"M0 0h24v24H0V0z\" fill=\"none\"/>\n",
              "    <path d=\"M18.56 5.44l.94 2.06.94-2.06 2.06-.94-2.06-.94-.94-2.06-.94 2.06-2.06.94zm-11 1L8.5 8.5l.94-2.06 2.06-.94-2.06-.94L8.5 2.5l-.94 2.06-2.06.94zm10 10l.94 2.06.94-2.06 2.06-.94-2.06-.94-.94-2.06-.94 2.06-2.06.94z\"/><path d=\"M17.41 7.96l-1.37-1.37c-.4-.4-.92-.59-1.43-.59-.52 0-1.04.2-1.43.59L10.3 9.45l-7.72 7.72c-.78.78-.78 2.05 0 2.83L4 21.41c.39.39.9.59 1.41.59.51 0 1.02-.2 1.41-.59l7.78-7.78 2.81-2.81c.8-.78.8-2.07 0-2.86zM5.41 20L4 18.59l7.72-7.72 1.47 1.35L5.41 20z\"/>\n",
              "  </svg>\n",
              "      </button>\n",
              "      \n",
              "  <style>\n",
              "    .colab-df-container {\n",
              "      display:flex;\n",
              "      flex-wrap:wrap;\n",
              "      gap: 12px;\n",
              "    }\n",
              "\n",
              "    .colab-df-convert {\n",
              "      background-color: #E8F0FE;\n",
              "      border: none;\n",
              "      border-radius: 50%;\n",
              "      cursor: pointer;\n",
              "      display: none;\n",
              "      fill: #1967D2;\n",
              "      height: 32px;\n",
              "      padding: 0 0 0 0;\n",
              "      width: 32px;\n",
              "    }\n",
              "\n",
              "    .colab-df-convert:hover {\n",
              "      background-color: #E2EBFA;\n",
              "      box-shadow: 0px 1px 2px rgba(60, 64, 67, 0.3), 0px 1px 3px 1px rgba(60, 64, 67, 0.15);\n",
              "      fill: #174EA6;\n",
              "    }\n",
              "\n",
              "    [theme=dark] .colab-df-convert {\n",
              "      background-color: #3B4455;\n",
              "      fill: #D2E3FC;\n",
              "    }\n",
              "\n",
              "    [theme=dark] .colab-df-convert:hover {\n",
              "      background-color: #434B5C;\n",
              "      box-shadow: 0px 1px 3px 1px rgba(0, 0, 0, 0.15);\n",
              "      filter: drop-shadow(0px 1px 2px rgba(0, 0, 0, 0.3));\n",
              "      fill: #FFFFFF;\n",
              "    }\n",
              "  </style>\n",
              "\n",
              "      <script>\n",
              "        const buttonEl =\n",
              "          document.querySelector('#df-e9d94b74-0fbd-4160-b05f-5f985ce30140 button.colab-df-convert');\n",
              "        buttonEl.style.display =\n",
              "          google.colab.kernel.accessAllowed ? 'block' : 'none';\n",
              "\n",
              "        async function convertToInteractive(key) {\n",
              "          const element = document.querySelector('#df-e9d94b74-0fbd-4160-b05f-5f985ce30140');\n",
              "          const dataTable =\n",
              "            await google.colab.kernel.invokeFunction('convertToInteractive',\n",
              "                                                     [key], {});\n",
              "          if (!dataTable) return;\n",
              "\n",
              "          const docLinkHtml = 'Like what you see? Visit the ' +\n",
              "            '<a target=\"_blank\" href=https://colab.research.google.com/notebooks/data_table.ipynb>data table notebook</a>'\n",
              "            + ' to learn more about interactive tables.';\n",
              "          element.innerHTML = '';\n",
              "          dataTable['output_type'] = 'display_data';\n",
              "          await google.colab.output.renderOutput(dataTable, element);\n",
              "          const docLink = document.createElement('div');\n",
              "          docLink.innerHTML = docLinkHtml;\n",
              "          element.appendChild(docLink);\n",
              "        }\n",
              "      </script>\n",
              "    </div>\n",
              "  </div>\n",
              "  "
            ]
          },
          "metadata": {},
          "execution_count": 73
        }
      ]
    },
    {
      "cell_type": "code",
      "source": [
        "X_train_mean = np.mean(X, axis=0)\n",
        "print(f'X_train_mean: \\n{X_train_mean} \\n')\n",
        "X_train_std = np.std(X, axis=0, ddof=1)\n",
        "print(f'X_train_std: \\n{X_train_std} \\n')"
      ],
      "metadata": {
        "colab": {
          "base_uri": "https://localhost:8080/"
        },
        "id": "Ol6anqeUVCnh",
        "outputId": "f841bf32-dba5-4c4a-f0f5-de12aa5cec6c"
      },
      "execution_count": 74,
      "outputs": [
        {
          "output_type": "stream",
          "name": "stdout",
          "text": [
            "X_train_mean: \n",
            "[1527.2       1.6454] \n",
            "\n",
            "X_train_std: \n",
            "[2.52575137e+02 1.40535761e-01] \n",
            "\n"
          ]
        }
      ]
    },
    {
      "cell_type": "markdown",
      "source": [
        "#Standardize Y"
      ],
      "metadata": {
        "id": "HXdKQZoxWdUm"
      }
    },
    {
      "cell_type": "code",
      "source": [
        "y_train_mean = np.mean(y)\n",
        "print(f'y_train_mean: \\n{y_train_mean} \\n')\n",
        "y_train_std = np.std(y)\n",
        "print(f'y_train_std: \\n{y_train_std} \\n')\n",
        "y = [(a - y_train_mean)/y_train_std for a in y]\n",
        "print(f'STD y: \\n{y} \\n')"
      ],
      "metadata": {
        "colab": {
          "base_uri": "https://localhost:8080/"
        },
        "id": "IX66muKST33G",
        "outputId": "a5dd2ce1-96fb-499f-e9df-a7a7d9e9b0cb"
      },
      "execution_count": 75,
      "outputs": [
        {
          "output_type": "stream",
          "name": "stdout",
          "text": [
            "y_train_mean: \n",
            "1.86 \n",
            "\n",
            "y_train_std: \n",
            "0.3337663853655727 \n",
            "\n",
            "STD y: \n",
            "[-0.8988322765679699, -0.6591436694831784, -0.26964968297039116, -0.08988322765679706, 1.9175088566783351] \n",
            "\n"
          ]
        }
      ]
    },
    {
      "cell_type": "markdown",
      "source": [
        "# Compute coefficients"
      ],
      "metadata": {
        "id": "HLoNB_LIWf7Z"
      }
    },
    {
      "cell_type": "code",
      "source": [
        "# add the w_0 intercept where the corresponding x_0 = 1\n",
        "Xp = np.concatenate([np.zeros((X_std.shape[0], 1)), X_std], axis=1)\n",
        "\n",
        "# 2. the closed form solution\n",
        "print(f'X: \\n{Xp}\\n')\n",
        "print(f'XT: \\n{Xp.T}\\n')\n",
        "print(f'labmda*I: \\n{lambd * np.eye(Xp.shape[1])}\\n')\n",
        "print(f'Y: \\n{y}\\n')\n",
        "print(f'XT*Y: \\n{Xp.T.dot(y)}\\n')\n",
        "print(f'XTX+labmda*I: \\n{Xp.T.dot(Xp) + lambd * np.eye(Xp.shape[1])}\\n')\n",
        "print(f'(XTX+labmda*I)^-1: \\n{np.linalg.inv(Xp.T.dot(Xp) + lambd * np.eye(Xp.shape[1]))}\\n')\n",
        "beta = np.linalg.inv(Xp.T.dot(Xp) + lambd * np.eye(Xp.shape[1])).dot(Xp.T).dot(y)\n",
        "print(f'beta: \\n{beta} \\n')"
      ],
      "metadata": {
        "colab": {
          "base_uri": "https://localhost:8080/"
        },
        "id": "LBzKwEhNT_Wj",
        "outputId": "061c726c-5176-4f60-940a-feb5c8f0ba5f"
      },
      "execution_count": 76,
      "outputs": [
        {
          "output_type": "stream",
          "name": "stdout",
          "text": [
            "X: \n",
            "[[ 0.         -1.57656056 -1.49712784]\n",
            " [ 0.         -0.29377397 -0.31593382]\n",
            " [ 0.          0.50994726  0.06119439]\n",
            " [ 0.          1.02860481  1.12142276]\n",
            " [ 0.          0.33178246  0.63044452]]\n",
            "\n",
            "XT: \n",
            "[[ 0.          0.          0.          0.          0.        ]\n",
            " [-1.57656056 -0.29377397  0.50994726  1.02860481  0.33178246]\n",
            " [-1.49712784 -0.31593382  0.06119439  1.12142276  0.63044452]]\n",
            "\n",
            "labmda*I: \n",
            "[[0.5 0.  0. ]\n",
            " [0.  0.5 0. ]\n",
            " [0.  0.  0.5]]\n",
            "\n",
            "Y: \n",
            "[-0.8988322765679699, -0.6591436694831784, -0.26964968297039116, -0.08988322765679706, 1.9175088566783351]\n",
            "\n",
            "XT*Y: \n",
            "[0.         2.01693713 2.64549741]\n",
            "\n",
            "XTX+labmda*I: \n",
            "[[0.5        0.         0.        ]\n",
            " [0.         4.5        3.84700302]\n",
            " [0.         3.84700302 4.5       ]]\n",
            "\n",
            "(XTX+labmda*I)^-1: \n",
            "[[ 2.          0.          0.        ]\n",
            " [ 0.          0.82560207 -0.70579859]\n",
            " [ 0.         -0.70579859  0.82560207]]\n",
            "\n",
            "beta: \n",
            "[ 0.         -0.20200087  0.76057675] \n",
            "\n"
          ]
        }
      ]
    },
    {
      "cell_type": "markdown",
      "source": [
        "# Ridge (Sklearn)"
      ],
      "metadata": {
        "id": "V7di-T0uUNLz"
      }
    },
    {
      "cell_type": "code",
      "source": [
        "ridge = Ridge(fit_intercept=True, alpha=lambd)\n",
        "ridge.fit(X_std, y)\n",
        "# 1. intercept and coef of the fit model\n",
        "coeff = np.array([ridge.intercept_] + list(ridge.coef_))\n",
        "print([float(f'{c:.3f}') for c in coeff])"
      ],
      "metadata": {
        "colab": {
          "base_uri": "https://localhost:8080/"
        },
        "id": "lyGWS4AzUK02",
        "outputId": "47e0505b-3643-4acd-da5b-2377a064d570"
      },
      "execution_count": 77,
      "outputs": [
        {
          "output_type": "stream",
          "name": "stdout",
          "text": [
            "[-0.0, -0.202, 0.761]\n"
          ]
        }
      ]
    },
    {
      "cell_type": "markdown",
      "source": [
        "# Predict (test set)"
      ],
      "metadata": {
        "id": "Wafj4HJrWo19"
      }
    },
    {
      "cell_type": "code",
      "execution_count": 78,
      "metadata": {
        "colab": {
          "base_uri": "https://localhost:8080/"
        },
        "id": "WnrjWgnVTa4J",
        "outputId": "91fd9c90-768a-42a8-c4db-f75e5520f775"
      },
      "outputs": [
        {
          "output_type": "stream",
          "name": "stdout",
          "text": [
            "X_test: \n",
            "[[1.629e+03 1.635e+00]\n",
            " [1.853e+03 1.701e+00]\n",
            " [1.356e+03 1.454e+00]] \n",
            "\n",
            "STD X_test: \n",
            "[[ 0.40304838 -0.07400252]\n",
            " [ 1.28991319  0.39562884]\n",
            " [-0.6778181  -1.36193094]] \n",
            "\n",
            "Adding zeros STD X_test: \n",
            "[[ 0.          0.40304838 -0.07400252]\n",
            " [ 0.          1.28991319  0.39562884]\n",
            " [ 0.         -0.6778181  -1.36193094]] \n",
            "\n",
            "y_pred: \n",
            "[-0.13770072  0.04034251 -0.89893316] \n",
            "\n",
            "y_pred restandertaization: \n",
            "[1.81404013 1.87346497 1.55996633] \n",
            "\n"
          ]
        }
      ],
      "source": [
        "print(f'X_test: \\n{X_test} \\n')\n",
        "\n",
        "X_test_std = (X_test - X_train_mean) / X_train_std\n",
        "print(f'STD X_test: \\n{X_test_std} \\n')\n",
        "\n",
        "Xp_test = np.concatenate([np.zeros((X_test_std.shape[0], 1)), X_test_std], axis=1)\n",
        "print(f'Adding zeros STD X_test: \\n{Xp_test} \\n')\n",
        "\n",
        "y_pred = Xp_test.dot(beta.T)\n",
        "print(f'y_pred: \\n{y_pred} \\n')\n",
        "\n",
        "print(f'y_pred restandertaization: \\n{y_pred*y_train_std+y_train_mean} \\n')"
      ]
    }
  ]
}