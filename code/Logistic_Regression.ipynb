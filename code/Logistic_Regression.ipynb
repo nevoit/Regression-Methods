{
  "nbformat": 4,
  "nbformat_minor": 0,
  "metadata": {
    "colab": {
      "name": "Logistic_Regression.ipynb",
      "provenance": [],
      "collapsed_sections": []
    },
    "kernelspec": {
      "name": "python3",
      "display_name": "Python 3"
    },
    "language_info": {
      "name": "python"
    }
  },
  "cells": [
    {
      "cell_type": "code",
      "execution_count": 37,
      "metadata": {
        "id": "XFhzHOVmTsF1"
      },
      "outputs": [],
      "source": [
        "import numpy as np \n",
        "import pandas as pd\n",
        "import matplotlib.pyplot as plt\n",
        "import seaborn as sns\n",
        "from sklearn import datasets"
      ]
    },
    {
      "cell_type": "markdown",
      "source": [
        "# Parameters"
      ],
      "metadata": {
        "id": "CcuBK01UUan3"
      }
    },
    {
      "cell_type": "code",
      "source": [
        "X = np.array(\n",
        "    [[1129, 1.435],\n",
        "     [1453, 1.601],\n",
        "     [1656, 1.654],\n",
        "     [1787, 1.803],\n",
        "     [1611, 1.734]]\n",
        ")\n",
        "y = [0, 0, 0, 1,1]\n",
        "\n",
        "X_test = np.array(\n",
        "    [[1629, 1.635],\n",
        "     [1853, 1.701],\n",
        "     [1356, 1.454]]\n",
        ")\n",
        "\n",
        "n_iter = 3\n",
        "lr = 0.01\n",
        "threshold = 0.4"
      ],
      "metadata": {
        "id": "x96Ur32gTyoE"
      },
      "execution_count": 38,
      "outputs": []
    },
    {
      "cell_type": "markdown",
      "source": [
        "# Standardize the continuous initial variables"
      ],
      "metadata": {
        "id": "gLH3XsgPU4bU"
      }
    },
    {
      "cell_type": "code",
      "source": [
        "X_to_print = pd.DataFrame(X, columns = ['x_1','x_2'])\n",
        "print(f'The original data (i.e., matrix X):')\n",
        "X_to_print"
      ],
      "metadata": {
        "colab": {
          "base_uri": "https://localhost:8080/",
          "height": 224
        },
        "id": "rt8m-V6xU1mS",
        "outputId": "7030cf34-3a84-4b57-a5af-14bd07ab1536"
      },
      "execution_count": 39,
      "outputs": [
        {
          "output_type": "stream",
          "name": "stdout",
          "text": [
            "The original data (i.e., matrix X):\n"
          ]
        },
        {
          "output_type": "execute_result",
          "data": {
            "text/plain": [
              "      x_1    x_2\n",
              "0  1129.0  1.435\n",
              "1  1453.0  1.601\n",
              "2  1656.0  1.654\n",
              "3  1787.0  1.803\n",
              "4  1611.0  1.734"
            ],
            "text/html": [
              "\n",
              "  <div id=\"df-8d15e9a7-5241-409a-8841-4a4d90f61e0b\">\n",
              "    <div class=\"colab-df-container\">\n",
              "      <div>\n",
              "<style scoped>\n",
              "    .dataframe tbody tr th:only-of-type {\n",
              "        vertical-align: middle;\n",
              "    }\n",
              "\n",
              "    .dataframe tbody tr th {\n",
              "        vertical-align: top;\n",
              "    }\n",
              "\n",
              "    .dataframe thead th {\n",
              "        text-align: right;\n",
              "    }\n",
              "</style>\n",
              "<table border=\"1\" class=\"dataframe\">\n",
              "  <thead>\n",
              "    <tr style=\"text-align: right;\">\n",
              "      <th></th>\n",
              "      <th>x_1</th>\n",
              "      <th>x_2</th>\n",
              "    </tr>\n",
              "  </thead>\n",
              "  <tbody>\n",
              "    <tr>\n",
              "      <th>0</th>\n",
              "      <td>1129.0</td>\n",
              "      <td>1.435</td>\n",
              "    </tr>\n",
              "    <tr>\n",
              "      <th>1</th>\n",
              "      <td>1453.0</td>\n",
              "      <td>1.601</td>\n",
              "    </tr>\n",
              "    <tr>\n",
              "      <th>2</th>\n",
              "      <td>1656.0</td>\n",
              "      <td>1.654</td>\n",
              "    </tr>\n",
              "    <tr>\n",
              "      <th>3</th>\n",
              "      <td>1787.0</td>\n",
              "      <td>1.803</td>\n",
              "    </tr>\n",
              "    <tr>\n",
              "      <th>4</th>\n",
              "      <td>1611.0</td>\n",
              "      <td>1.734</td>\n",
              "    </tr>\n",
              "  </tbody>\n",
              "</table>\n",
              "</div>\n",
              "      <button class=\"colab-df-convert\" onclick=\"convertToInteractive('df-8d15e9a7-5241-409a-8841-4a4d90f61e0b')\"\n",
              "              title=\"Convert this dataframe to an interactive table.\"\n",
              "              style=\"display:none;\">\n",
              "        \n",
              "  <svg xmlns=\"http://www.w3.org/2000/svg\" height=\"24px\"viewBox=\"0 0 24 24\"\n",
              "       width=\"24px\">\n",
              "    <path d=\"M0 0h24v24H0V0z\" fill=\"none\"/>\n",
              "    <path d=\"M18.56 5.44l.94 2.06.94-2.06 2.06-.94-2.06-.94-.94-2.06-.94 2.06-2.06.94zm-11 1L8.5 8.5l.94-2.06 2.06-.94-2.06-.94L8.5 2.5l-.94 2.06-2.06.94zm10 10l.94 2.06.94-2.06 2.06-.94-2.06-.94-.94-2.06-.94 2.06-2.06.94z\"/><path d=\"M17.41 7.96l-1.37-1.37c-.4-.4-.92-.59-1.43-.59-.52 0-1.04.2-1.43.59L10.3 9.45l-7.72 7.72c-.78.78-.78 2.05 0 2.83L4 21.41c.39.39.9.59 1.41.59.51 0 1.02-.2 1.41-.59l7.78-7.78 2.81-2.81c.8-.78.8-2.07 0-2.86zM5.41 20L4 18.59l7.72-7.72 1.47 1.35L5.41 20z\"/>\n",
              "  </svg>\n",
              "      </button>\n",
              "      \n",
              "  <style>\n",
              "    .colab-df-container {\n",
              "      display:flex;\n",
              "      flex-wrap:wrap;\n",
              "      gap: 12px;\n",
              "    }\n",
              "\n",
              "    .colab-df-convert {\n",
              "      background-color: #E8F0FE;\n",
              "      border: none;\n",
              "      border-radius: 50%;\n",
              "      cursor: pointer;\n",
              "      display: none;\n",
              "      fill: #1967D2;\n",
              "      height: 32px;\n",
              "      padding: 0 0 0 0;\n",
              "      width: 32px;\n",
              "    }\n",
              "\n",
              "    .colab-df-convert:hover {\n",
              "      background-color: #E2EBFA;\n",
              "      box-shadow: 0px 1px 2px rgba(60, 64, 67, 0.3), 0px 1px 3px 1px rgba(60, 64, 67, 0.15);\n",
              "      fill: #174EA6;\n",
              "    }\n",
              "\n",
              "    [theme=dark] .colab-df-convert {\n",
              "      background-color: #3B4455;\n",
              "      fill: #D2E3FC;\n",
              "    }\n",
              "\n",
              "    [theme=dark] .colab-df-convert:hover {\n",
              "      background-color: #434B5C;\n",
              "      box-shadow: 0px 1px 3px 1px rgba(0, 0, 0, 0.15);\n",
              "      filter: drop-shadow(0px 1px 2px rgba(0, 0, 0, 0.3));\n",
              "      fill: #FFFFFF;\n",
              "    }\n",
              "  </style>\n",
              "\n",
              "      <script>\n",
              "        const buttonEl =\n",
              "          document.querySelector('#df-8d15e9a7-5241-409a-8841-4a4d90f61e0b button.colab-df-convert');\n",
              "        buttonEl.style.display =\n",
              "          google.colab.kernel.accessAllowed ? 'block' : 'none';\n",
              "\n",
              "        async function convertToInteractive(key) {\n",
              "          const element = document.querySelector('#df-8d15e9a7-5241-409a-8841-4a4d90f61e0b');\n",
              "          const dataTable =\n",
              "            await google.colab.kernel.invokeFunction('convertToInteractive',\n",
              "                                                     [key], {});\n",
              "          if (!dataTable) return;\n",
              "\n",
              "          const docLinkHtml = 'Like what you see? Visit the ' +\n",
              "            '<a target=\"_blank\" href=https://colab.research.google.com/notebooks/data_table.ipynb>data table notebook</a>'\n",
              "            + ' to learn more about interactive tables.';\n",
              "          element.innerHTML = '';\n",
              "          dataTable['output_type'] = 'display_data';\n",
              "          await google.colab.output.renderOutput(dataTable, element);\n",
              "          const docLink = document.createElement('div');\n",
              "          docLink.innerHTML = docLinkHtml;\n",
              "          element.appendChild(docLink);\n",
              "        }\n",
              "      </script>\n",
              "    </div>\n",
              "  </div>\n",
              "  "
            ]
          },
          "metadata": {},
          "execution_count": 39
        }
      ]
    },
    {
      "cell_type": "code",
      "source": [
        "X_train_mean = np.mean(X, axis=0)\n",
        "print(f'X_train_mean: \\n{X_train_mean} \\n')\n",
        "X_train_std = np.std(X, axis=0, ddof=1)\n",
        "print(f'X_train_std: \\n{X_train_std} \\n')"
      ],
      "metadata": {
        "colab": {
          "base_uri": "https://localhost:8080/"
        },
        "id": "DDBhC3h-U5-w",
        "outputId": "7f388c7b-decc-47f2-e6ab-732842c22713"
      },
      "execution_count": 40,
      "outputs": [
        {
          "output_type": "stream",
          "name": "stdout",
          "text": [
            "X_train_mean: \n",
            "[1527.2       1.6454] \n",
            "\n",
            "X_train_std: \n",
            "[2.52575137e+02 1.40535761e-01] \n",
            "\n"
          ]
        }
      ]
    },
    {
      "cell_type": "code",
      "source": [
        "X_std = (X - np.mean(X, axis=0)) / np.std(X, axis=0, ddof=1)\n",
        "X_std_to_print = pd.DataFrame(X_std, columns = ['x_1_std','x_2_std'])\n",
        "print(f'The standardised data (i.e., matrix X_std):')\n",
        "print(f'x_1_std mean = {X_std_to_print[\"x_1_std\"].mean():.2f}')\n",
        "print(f'x_1_std std = {X_std_to_print[\"x_1_std\"].std():.2f}')\n",
        "print(f'x_2_std mean = {X_std_to_print[\"x_2_std\"].mean():.2f}')\n",
        "print(f'x_2_std std = {X_std_to_print[\"x_2_std\"].std():.2f}')\n",
        "X_std_to_print"
      ],
      "metadata": {
        "colab": {
          "base_uri": "https://localhost:8080/",
          "height": 293
        },
        "id": "3sQ_pWc_U25u",
        "outputId": "d867637a-0a7d-455b-9e2f-f128d204274b"
      },
      "execution_count": 41,
      "outputs": [
        {
          "output_type": "stream",
          "name": "stdout",
          "text": [
            "The standardised data (i.e., matrix X_std):\n",
            "x_1_std mean = -0.00\n",
            "x_1_std std = 1.00\n",
            "x_2_std mean = -0.00\n",
            "x_2_std std = 1.00\n"
          ]
        },
        {
          "output_type": "execute_result",
          "data": {
            "text/plain": [
              "    x_1_std   x_2_std\n",
              "0 -1.576561 -1.497128\n",
              "1 -0.293774 -0.315934\n",
              "2  0.509947  0.061194\n",
              "3  1.028605  1.121423\n",
              "4  0.331782  0.630445"
            ],
            "text/html": [
              "\n",
              "  <div id=\"df-d1d7beb5-1aa4-40a3-be71-7a11a2141389\">\n",
              "    <div class=\"colab-df-container\">\n",
              "      <div>\n",
              "<style scoped>\n",
              "    .dataframe tbody tr th:only-of-type {\n",
              "        vertical-align: middle;\n",
              "    }\n",
              "\n",
              "    .dataframe tbody tr th {\n",
              "        vertical-align: top;\n",
              "    }\n",
              "\n",
              "    .dataframe thead th {\n",
              "        text-align: right;\n",
              "    }\n",
              "</style>\n",
              "<table border=\"1\" class=\"dataframe\">\n",
              "  <thead>\n",
              "    <tr style=\"text-align: right;\">\n",
              "      <th></th>\n",
              "      <th>x_1_std</th>\n",
              "      <th>x_2_std</th>\n",
              "    </tr>\n",
              "  </thead>\n",
              "  <tbody>\n",
              "    <tr>\n",
              "      <th>0</th>\n",
              "      <td>-1.576561</td>\n",
              "      <td>-1.497128</td>\n",
              "    </tr>\n",
              "    <tr>\n",
              "      <th>1</th>\n",
              "      <td>-0.293774</td>\n",
              "      <td>-0.315934</td>\n",
              "    </tr>\n",
              "    <tr>\n",
              "      <th>2</th>\n",
              "      <td>0.509947</td>\n",
              "      <td>0.061194</td>\n",
              "    </tr>\n",
              "    <tr>\n",
              "      <th>3</th>\n",
              "      <td>1.028605</td>\n",
              "      <td>1.121423</td>\n",
              "    </tr>\n",
              "    <tr>\n",
              "      <th>4</th>\n",
              "      <td>0.331782</td>\n",
              "      <td>0.630445</td>\n",
              "    </tr>\n",
              "  </tbody>\n",
              "</table>\n",
              "</div>\n",
              "      <button class=\"colab-df-convert\" onclick=\"convertToInteractive('df-d1d7beb5-1aa4-40a3-be71-7a11a2141389')\"\n",
              "              title=\"Convert this dataframe to an interactive table.\"\n",
              "              style=\"display:none;\">\n",
              "        \n",
              "  <svg xmlns=\"http://www.w3.org/2000/svg\" height=\"24px\"viewBox=\"0 0 24 24\"\n",
              "       width=\"24px\">\n",
              "    <path d=\"M0 0h24v24H0V0z\" fill=\"none\"/>\n",
              "    <path d=\"M18.56 5.44l.94 2.06.94-2.06 2.06-.94-2.06-.94-.94-2.06-.94 2.06-2.06.94zm-11 1L8.5 8.5l.94-2.06 2.06-.94-2.06-.94L8.5 2.5l-.94 2.06-2.06.94zm10 10l.94 2.06.94-2.06 2.06-.94-2.06-.94-.94-2.06-.94 2.06-2.06.94z\"/><path d=\"M17.41 7.96l-1.37-1.37c-.4-.4-.92-.59-1.43-.59-.52 0-1.04.2-1.43.59L10.3 9.45l-7.72 7.72c-.78.78-.78 2.05 0 2.83L4 21.41c.39.39.9.59 1.41.59.51 0 1.02-.2 1.41-.59l7.78-7.78 2.81-2.81c.8-.78.8-2.07 0-2.86zM5.41 20L4 18.59l7.72-7.72 1.47 1.35L5.41 20z\"/>\n",
              "  </svg>\n",
              "      </button>\n",
              "      \n",
              "  <style>\n",
              "    .colab-df-container {\n",
              "      display:flex;\n",
              "      flex-wrap:wrap;\n",
              "      gap: 12px;\n",
              "    }\n",
              "\n",
              "    .colab-df-convert {\n",
              "      background-color: #E8F0FE;\n",
              "      border: none;\n",
              "      border-radius: 50%;\n",
              "      cursor: pointer;\n",
              "      display: none;\n",
              "      fill: #1967D2;\n",
              "      height: 32px;\n",
              "      padding: 0 0 0 0;\n",
              "      width: 32px;\n",
              "    }\n",
              "\n",
              "    .colab-df-convert:hover {\n",
              "      background-color: #E2EBFA;\n",
              "      box-shadow: 0px 1px 2px rgba(60, 64, 67, 0.3), 0px 1px 3px 1px rgba(60, 64, 67, 0.15);\n",
              "      fill: #174EA6;\n",
              "    }\n",
              "\n",
              "    [theme=dark] .colab-df-convert {\n",
              "      background-color: #3B4455;\n",
              "      fill: #D2E3FC;\n",
              "    }\n",
              "\n",
              "    [theme=dark] .colab-df-convert:hover {\n",
              "      background-color: #434B5C;\n",
              "      box-shadow: 0px 1px 3px 1px rgba(0, 0, 0, 0.15);\n",
              "      filter: drop-shadow(0px 1px 2px rgba(0, 0, 0, 0.3));\n",
              "      fill: #FFFFFF;\n",
              "    }\n",
              "  </style>\n",
              "\n",
              "      <script>\n",
              "        const buttonEl =\n",
              "          document.querySelector('#df-d1d7beb5-1aa4-40a3-be71-7a11a2141389 button.colab-df-convert');\n",
              "        buttonEl.style.display =\n",
              "          google.colab.kernel.accessAllowed ? 'block' : 'none';\n",
              "\n",
              "        async function convertToInteractive(key) {\n",
              "          const element = document.querySelector('#df-d1d7beb5-1aa4-40a3-be71-7a11a2141389');\n",
              "          const dataTable =\n",
              "            await google.colab.kernel.invokeFunction('convertToInteractive',\n",
              "                                                     [key], {});\n",
              "          if (!dataTable) return;\n",
              "\n",
              "          const docLinkHtml = 'Like what you see? Visit the ' +\n",
              "            '<a target=\"_blank\" href=https://colab.research.google.com/notebooks/data_table.ipynb>data table notebook</a>'\n",
              "            + ' to learn more about interactive tables.';\n",
              "          element.innerHTML = '';\n",
              "          dataTable['output_type'] = 'display_data';\n",
              "          await google.colab.output.renderOutput(dataTable, element);\n",
              "          const docLink = document.createElement('div');\n",
              "          docLink.innerHTML = docLinkHtml;\n",
              "          element.appendChild(docLink);\n",
              "        }\n",
              "      </script>\n",
              "    </div>\n",
              "  </div>\n",
              "  "
            ]
          },
          "metadata": {},
          "execution_count": 41
        }
      ]
    },
    {
      "cell_type": "markdown",
      "source": [
        "# Compute coefficients"
      ],
      "metadata": {
        "id": "3LThaw2KU_hV"
      }
    },
    {
      "cell_type": "code",
      "source": [
        "# 1. Initialize coefficients\n",
        "weights = None\n",
        "Xp = np.concatenate([np.ones((X_std.shape[0], 1)), X_std], axis=1)\n",
        "\n",
        "m = Xp.shape[0]  # sample size\n",
        "weights = np.zeros(Xp.shape[1])\n",
        "y = np.asarray(y)\n",
        "# b = 0\n",
        "\n",
        "hist = np.zeros(n_iter)\n",
        "# 2. Perform gradient descent\n",
        "for i in range(n_iter):\n",
        "    # linear_pred = np.dot(X_std, weights) + b\n",
        "    print(f'Iteration #{i}:')\n",
        "    linear_pred = np.dot(Xp, weights)\n",
        "    print(f'Current linear prediction {linear_pred}')\n",
        "    probability = 1 / (1 + np.exp(-linear_pred))\n",
        "    print(f'Current probability prediction {probability}')\n",
        "    \n",
        "    loss = (y*np.log(probability)+(1-y)*np.log(probability)).mean()\n",
        "    print(f'Current loss: {loss}')\n",
        "    hist[i] = loss\n",
        "\n",
        "    # Calculate derivatives\n",
        "    print(f'Current residuals {probability - y}')\n",
        "    partial_w = (1 / Xp.shape[0]) * (np.dot(Xp.T, (probability - y)))\n",
        "    print(f'Current derivatives {partial_w}')\n",
        "    # partial_d = (1 / X_std.shape[0]) * (np.sum(probability - y))\n",
        "    \n",
        "    # Update the coefficients\n",
        "    weights -= lr * partial_w\n",
        "    print(f'Current weights {weights}')\n",
        "    # b -= lr * partial_d\n",
        "    print(f'-'*10)\n",
        "\n",
        "# weights, b\n",
        "weights"
      ],
      "metadata": {
        "colab": {
          "base_uri": "https://localhost:8080/"
        },
        "id": "JEB-lrGtVAtI",
        "outputId": "eb748f0c-738f-4b8a-ff22-a982e8de8428"
      },
      "execution_count": 42,
      "outputs": [
        {
          "output_type": "stream",
          "name": "stdout",
          "text": [
            "Iteration #0:\n",
            "Current linear prediction [0. 0. 0. 0. 0.]\n",
            "Current probability prediction [0.5 0.5 0.5 0.5 0.5]\n",
            "Current loss: -0.6931471805599453\n",
            "Current residuals [ 0.5  0.5  0.5 -0.5 -0.5]\n",
            "Current derivatives [ 0.1        -0.27207745 -0.35037346]\n",
            "Current weights [-0.001       0.00272077  0.00350373]\n",
            "----------\n",
            "Iteration #1:\n",
            "Current linear prediction [-0.010535   -0.00290624  0.00060186  0.00572777  0.00211162]\n",
            "Current probability prediction [0.49736627 0.49927344 0.50015047 0.50143194 0.5005279 ]\n",
            "Current loss: -0.6936511070721968\n",
            "Current residuals [ 0.49736627  0.49927344  0.50015047 -0.49856806 -0.4994721 ]\n",
            "Current derivatives [ 0.09975    -0.27085936 -0.34914938]\n",
            "Current weights [-0.0019975   0.00542937  0.00699523]\n",
            "----------\n",
            "Iteration #2:\n",
            "Current linear prediction [-0.02102998 -0.00580254  0.00119926  0.01143178  0.00421397]\n",
            "Current probability prediction [0.4947427  0.49854937 0.50029981 0.50285791 0.50105349]\n",
            "Current loss: -0.6941615756294335\n",
            "Current residuals [ 0.4947427   0.49854937  0.50029981 -0.49714209 -0.49894651]\n",
            "Current derivatives [ 0.09950066 -0.26964611 -0.34793014]\n",
            "Current weights [-0.00299251  0.00812583  0.01047453]\n",
            "----------\n"
          ]
        },
        {
          "output_type": "execute_result",
          "data": {
            "text/plain": [
              "array([-0.00299251,  0.00812583,  0.01047453])"
            ]
          },
          "metadata": {},
          "execution_count": 42
        }
      ]
    },
    {
      "cell_type": "markdown",
      "source": [
        "# Visualization (the learning phase)"
      ],
      "metadata": {
        "id": "ufGhhQ62tiEu"
      }
    },
    {
      "cell_type": "code",
      "source": [
        "plt.plot(hist, 'b', color='#fcb103')\n",
        "plt.title(u'Loss per iteration')\n",
        "plt.xlabel(u'iteration')\n",
        "plt.ylabel(r'$Loss(Y_hat, Y)$')\n",
        "plt.figtext(x=.6, y=.6, s=f\"At the final iteration:\\n\\n {weights}\")\n",
        "plt.show()"
      ],
      "metadata": {
        "colab": {
          "base_uri": "https://localhost:8080/",
          "height": 295
        },
        "id": "92eNG_32tgpT",
        "outputId": "b2a9092e-68c6-4060-a241-62e1eb699985"
      },
      "execution_count": 43,
      "outputs": [
        {
          "output_type": "display_data",
          "data": {
            "text/plain": [
              "<Figure size 432x288 with 1 Axes>"
            ],
            "image/png": "[encoded data removed]"
          },
          "metadata": {
            "needs_background": "light"
          }
        }
      ]
    },
    {
      "cell_type": "markdown",
      "source": [
        "# Predict (test set)"
      ],
      "metadata": {
        "id": "SZbGAtUnVCxA"
      }
    },
    {
      "cell_type": "code",
      "source": [
        "X_test_std = (X_test - X_train_mean) / X_train_std\n",
        "print(f'STD X_test: \\n{X_test_std} \\n')"
      ],
      "metadata": {
        "colab": {
          "base_uri": "https://localhost:8080/"
        },
        "id": "C0VqhduKYhYv",
        "outputId": "b06b88de-da48-427e-d252-2472b49e2591"
      },
      "execution_count": 44,
      "outputs": [
        {
          "output_type": "stream",
          "name": "stdout",
          "text": [
            "STD X_test: \n",
            "[[ 0.40304838 -0.07400252]\n",
            " [ 1.28991319  0.39562884]\n",
            " [-0.6778181  -1.36193094]] \n",
            "\n"
          ]
        }
      ]
    },
    {
      "cell_type": "code",
      "source": [
        "Xp_test = np.concatenate([np.ones((X_test_std.shape[0], 1)), X_test_std], axis=1)\n",
        "linear_pred = np.dot(Xp_test, weights)\n",
        "y_pred = 1 / (1 + np.exp(-linear_pred))\n",
        "y_pred"
      ],
      "metadata": {
        "colab": {
          "base_uri": "https://localhost:8080/"
        },
        "id": "4lFbog1rcCZa",
        "outputId": "1085d8fe-7c9a-4ec9-c583-af2fe1684e98"
      },
      "execution_count": 45,
      "outputs": [
        {
          "output_type": "execute_result",
          "data": {
            "text/plain": [
              "array([0.49987686, 0.50290825, 0.49430876])"
            ]
          },
          "metadata": {},
          "execution_count": 45
        }
      ]
    },
    {
      "cell_type": "code",
      "source": [
        "[1 if i > threshold else 0 for i in y_pred]"
      ],
      "metadata": {
        "colab": {
          "base_uri": "https://localhost:8080/"
        },
        "id": "Ww67Kanlcc4g",
        "outputId": "966d0a55-9eb3-4785-ea15-2dcce3e5e1ef"
      },
      "execution_count": 46,
      "outputs": [
        {
          "output_type": "execute_result",
          "data": {
            "text/plain": [
              "[1, 1, 1]"
            ]
          },
          "metadata": {},
          "execution_count": 46
        }
      ]
    },
    {
      "cell_type": "markdown",
      "source": [
        "# Test 1"
      ],
      "metadata": {
        "id": "0vNikzMvcm2E"
      }
    },
    {
      "cell_type": "code",
      "source": [
        "class LogisticRegression:\n",
        "    '''\n",
        "    A class which implements logistic regression model with gradient descent.\n",
        "    '''\n",
        "    def __init__(self, learning_rate=0.1, n_iterations=1000):\n",
        "        self.learning_rate = learning_rate\n",
        "        self.n_iterations = n_iterations\n",
        "        self.weights, self.bias = None, None\n",
        "        \n",
        "    @staticmethod\n",
        "    def _sigmoid(x):\n",
        "        '''\n",
        "        Private method, used to pass results of the line equation through the sigmoid function.\n",
        "        \n",
        "        :param x: float, prediction made by the line equation\n",
        "        :return: float\n",
        "        '''\n",
        "        return 1 / (1 + np.exp(-x))\n",
        "    \n",
        "    @staticmethod\n",
        "    def _binary_cross_entropy(y, y_hat):\n",
        "        '''\n",
        "        Private method, used to calculate binary cross entropy value between actual classes \n",
        "        and predicted probabilities.\n",
        "        \n",
        "        :param y: array, true class labels\n",
        "        :param y_hat: array, predicted probabilities\n",
        "        :return: float\n",
        "        '''\n",
        "        def safe_log(x): \n",
        "            return 0 if x == 0 else np.log(x)\n",
        "        total = 0\n",
        "        for curr_y, curr_y_hat in zip(y, y_hat):\n",
        "            total += (curr_y * safe_log(curr_y_hat) + (1 - curr_y) * safe_log(1 - curr_y_hat))\n",
        "        return - total / len(y)\n",
        "        \n",
        "    def fit(self, X, y):\n",
        "        '''\n",
        "        Used to calculate the coefficient of the logistic regression model.\n",
        "        \n",
        "        :param X: array, features\n",
        "        :param y: array, true values\n",
        "        :return: None\n",
        "        '''\n",
        "        # 1. Initialize coefficients\n",
        "        self.weights = np.zeros(X.shape[1])\n",
        "        self.bias = 0\n",
        "        \n",
        "        # 2. Perform gradient descent\n",
        "        for i in range(self.n_iterations):\n",
        "            linear_pred = np.dot(X, self.weights) + self.bias\n",
        "            probability = self._sigmoid(linear_pred)\n",
        "            \n",
        "            # Calculate derivatives\n",
        "            partial_w = (1 / X.shape[0]) * (np.dot(X.T, (probability - y)))\n",
        "            partial_d = (1 / X.shape[0]) * (np.sum(probability - y))\n",
        "            \n",
        "            # Update the coefficients\n",
        "            self.weights -= self.learning_rate * partial_w\n",
        "            self.bias -= self.learning_rate * partial_d\n",
        "            \n",
        "    def predict_proba(self, X):\n",
        "        '''\n",
        "        Calculates prediction probabilities for a given threshold using the line equation \n",
        "        passed through the sigmoid function.\n",
        "        \n",
        "        :param X: array, features\n",
        "        :return: array, prediction probabilities\n",
        "        '''\n",
        "        linear_pred = np.dot(X, self.weights) + self.bias\n",
        "        return self._sigmoid(linear_pred)\n",
        "    \n",
        "    def predict(self, X, threshold=0.5):\n",
        "        '''\n",
        "        Makes predictions using the line equation passed through the sigmoid function.\n",
        "        \n",
        "        :param X: array, features\n",
        "        :param threshold: float, classification threshold\n",
        "        :return: array, predictions\n",
        "        '''\n",
        "        probabilities = self.predict_proba(X)\n",
        "        return [1 if i > threshold else 0 for i in probabilities]"
      ],
      "metadata": {
        "id": "SVl43UcUaPUC"
      },
      "execution_count": 47,
      "outputs": []
    },
    {
      "cell_type": "code",
      "source": [
        "model = LogisticRegression(learning_rate=lr, n_iterations=n_iter)\n",
        "model.fit(X_std, np.asarray(y))\n",
        "print(f'Weights: {model.bias}, {model.weights}')\n",
        "preds = model.predict_proba(X_test_std)\n",
        "print(f'Prediction prob: {preds}')"
      ],
      "metadata": {
        "colab": {
          "base_uri": "https://localhost:8080/"
        },
        "id": "7d-_a7gbaP4L",
        "outputId": "a62403f6-822c-467a-ecf9-c08b0d19ccd9"
      },
      "execution_count": 48,
      "outputs": [
        {
          "output_type": "stream",
          "name": "stdout",
          "text": [
            "Weights: -0.0029925066216211892, [0.00812583 0.01047453]\n",
            "Prediction prob: [0.49987686 0.50290825 0.49430876]\n"
          ]
        }
      ]
    }
  ]
}